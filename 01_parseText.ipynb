{
 "cells": [
  {
   "cell_type": "code",
   "execution_count": 99,
   "id": "14686c20",
   "metadata": {},
   "outputs": [],
   "source": [
    "from tika import parser\n",
    "import pandas as pd\n",
    "import re\n",
    "import env"
   ]
  },
  {
   "cell_type": "code",
   "execution_count": 94,
   "id": "346cb54d",
   "metadata": {
    "scrolled": true
   },
   "outputs": [],
   "source": [
    "# parser.from_file('pdfs/2022-09-27_bill.pdf')['content']"
   ]
  },
  {
   "cell_type": "code",
   "execution_count": 40,
   "id": "ce35c4b3",
   "metadata": {},
   "outputs": [],
   "source": [
    "def get_data(filePath = 'pdfs/2022-09-27_bill.pdf'):\n",
    "    '''\n",
    "    \n",
    "    '''\n",
    "    text = parser.from_file(filePath)['content']\n",
    "    print(f'Text extraction from {filePath} complete.')\n",
    "    \n",
    "    return text"
   ]
  },
  {
   "cell_type": "code",
   "execution_count": 95,
   "id": "56407832",
   "metadata": {},
   "outputs": [],
   "source": [
    "# text = get_data()\n",
    "# text"
   ]
  },
  {
   "cell_type": "code",
   "execution_count": 96,
   "id": "ac537f58",
   "metadata": {
    "scrolled": true
   },
   "outputs": [],
   "source": [
    "# test_text = get_data(filePath = 'pdfs/2022-08-25_bill.pdf')\n",
    "# test_text"
   ]
  },
  {
   "cell_type": "markdown",
   "id": "e7aee1d1",
   "metadata": {},
   "source": [
    "## What I want to extract\n",
    "✔️\n",
    "\n",
    "Field | Document Field | Description\n",
    ":-- | :-- | :--\n",
    "✅`date_bill`| | Billing Date | \n",
    "✅`start_bill`| | Billing Start Date |\n",
    "✅`end_bill` | | Billing End Date\n",
    "✅`period_bill` | | Length of Billing Period (days)\n",
    "✅`date_meter` | | Meter Read Date\n",
    "✅`meter`| | Current Meter Read |\n",
    "✅`consumption`| | kWh Used |\n",
    "`service` | Service Availability Charge | Covers the cost of metering and billing for your address, regardless of consumption\n",
    "`amt_kwh` | Energy Charge per kWh\n",
    "`amt_total` | Total Energy Charge | Recovers costs for power plants and other infrastructure based on the amount of electricity you use\n",
    "`fuel_kwh` |\n",
    "`fuel_total` | | The cost for fuel above the base rate, and it fluctuates monthly based on the prices CPS Energy pays for fuel\n",
    "`reg_kwh` | \n",
    "`reg_total` | | Shows the state mandated fees and costs associated with the Electric Reliability Council of Texas (ERCOT) grid\n",
    "✅`peak` | | kWh Used in Excess of 600kWh | Applies during the months of June through September when an additional charge is applied for every kilowatt hour (kWh) used in excess of 600 kWh.\n",
    "`peak_kwh` | \n",
    "`peak_total` | | The Peak Capacity Charge covers the higher costs for electricity CPS Energy incurs during summer months when demand for electricity is at its highest. \n",
    "`city_services` | | Fees CPS Energy collects for the City of San Antonio’s Solid Waste Management Department "
   ]
  },
  {
   "cell_type": "markdown",
   "id": "cf23d50a",
   "metadata": {},
   "source": [
    "# Parsing Text Using Indices"
   ]
  },
  {
   "cell_type": "code",
   "execution_count": 6,
   "id": "6ce19a65",
   "metadata": {},
   "outputs": [],
   "source": [
    "def find_text(str_start, str_end, text_ = text):\n",
    "    '''\n",
    "    \n",
    "    '''\n",
    "    start_index = text_.index(str_start) + len(str_start)\n",
    "    end_index = text_.index(str_end, start_index)\n",
    "    \n",
    "    return text_[start_index:end_index]"
   ]
  },
  {
   "cell_type": "markdown",
   "id": "41c1f8f8",
   "metadata": {},
   "source": [
    "## 1. Billing Date"
   ]
  },
  {
   "cell_type": "code",
   "execution_count": 100,
   "id": "cea3b225",
   "metadata": {},
   "outputs": [
    {
     "ename": "AttributeError",
     "evalue": "module 'env' has no attribute 'zip'",
     "output_type": "error",
     "traceback": [
      "\u001b[0;31m---------------------------------------------------------------------------\u001b[0m",
      "\u001b[0;31mAttributeError\u001b[0m                            Traceback (most recent call last)",
      "\u001b[0;32m<ipython-input-100-2b24f8682a04>\u001b[0m in \u001b[0;36m<module>\u001b[0;34m\u001b[0m\n\u001b[0;32m----> 1\u001b[0;31m \u001b[0mdate_bill_beg\u001b[0m \u001b[0;34m=\u001b[0m \u001b[0;34mf'7{env.zip}\\n\\n'\u001b[0m\u001b[0;34m\u001b[0m\u001b[0;34m\u001b[0m\u001b[0m\n\u001b[0m\u001b[1;32m      2\u001b[0m \u001b[0mdate_bill_end\u001b[0m \u001b[0;34m=\u001b[0m \u001b[0;34m'\\n\\nOn or Before'\u001b[0m\u001b[0;34m\u001b[0m\u001b[0;34m\u001b[0m\u001b[0m\n",
      "\u001b[0;31mAttributeError\u001b[0m: module 'env' has no attribute 'zip'"
     ]
    }
   ],
   "source": [
    "date_bill_beg = f'7{env.zip}\\n\\n'\n",
    "date_bill_end = '\\n\\nOn or Before'"
   ]
  },
  {
   "cell_type": "code",
   "execution_count": 97,
   "id": "b3cba567",
   "metadata": {},
   "outputs": [],
   "source": [
    "# re.findall(rf'{date_bill_beg}', text)"
   ]
  },
  {
   "cell_type": "code",
   "execution_count": 9,
   "id": "6627e8fb",
   "metadata": {},
   "outputs": [
    {
     "data": {
      "text/plain": [
       "'09/27/22'"
      ]
     },
     "execution_count": 9,
     "metadata": {},
     "output_type": "execute_result"
    }
   ],
   "source": [
    "find_text(date_bill_beg, date_bill_end)"
   ]
  },
  {
   "cell_type": "code",
   "execution_count": 84,
   "id": "e005be47",
   "metadata": {},
   "outputs": [
    {
     "data": {
      "text/plain": [
       "'08/25/22'"
      ]
     },
     "execution_count": 84,
     "metadata": {},
     "output_type": "execute_result"
    }
   ],
   "source": [
    "find_text(date_bill_beg, date_bill_end, test_text)"
   ]
  },
  {
   "cell_type": "code",
   "execution_count": 87,
   "id": "db2ffbb2",
   "metadata": {},
   "outputs": [
    {
     "data": {
      "text/html": [
       "<div>\n",
       "<style scoped>\n",
       "    .dataframe tbody tr th:only-of-type {\n",
       "        vertical-align: middle;\n",
       "    }\n",
       "\n",
       "    .dataframe tbody tr th {\n",
       "        vertical-align: top;\n",
       "    }\n",
       "\n",
       "    .dataframe thead th {\n",
       "        text-align: right;\n",
       "    }\n",
       "</style>\n",
       "<table border=\"1\" class=\"dataframe\">\n",
       "  <thead>\n",
       "    <tr style=\"text-align: right;\">\n",
       "      <th></th>\n",
       "      <th>billing_date</th>\n",
       "    </tr>\n",
       "  </thead>\n",
       "  <tbody>\n",
       "    <tr>\n",
       "      <th>0</th>\n",
       "      <td>09/27/22</td>\n",
       "    </tr>\n",
       "    <tr>\n",
       "      <th>1</th>\n",
       "      <td>08/25/22</td>\n",
       "    </tr>\n",
       "  </tbody>\n",
       "</table>\n",
       "</div>"
      ],
      "text/plain": [
       "  billing_date\n",
       "0     09/27/22\n",
       "1     08/25/22"
      ]
     },
     "execution_count": 87,
     "metadata": {},
     "output_type": "execute_result"
    }
   ],
   "source": [
    "df_bill_date = pd.DataFrame([find_text(date_bill_beg, date_bill_end), find_text(date_bill_beg, date_bill_end, test_text)], \\\n",
    "             columns = ['billing_date'])\n",
    "df_bill_date"
   ]
  },
  {
   "cell_type": "markdown",
   "id": "a29bf031",
   "metadata": {},
   "source": [
    "### Billing Date Function"
   ]
  },
  {
   "cell_type": "code",
   "execution_count": 10,
   "id": "8781fb05",
   "metadata": {},
   "outputs": [],
   "source": [
    "def get_bill_date(str_start = f'{env.zip}\\n\\n', str_end = '\\n\\nOn or Before', text = text):\n",
    "    '''\n",
    "    This function returns the billing data from the bill text as a string, by looking at the index value of the \n",
    "    text that comes before and after the value.\n",
    "    '''\n",
    "    start_index = text.index(str_start) + len(str_start)\n",
    "    end_index = text.index(str_end, start_index)\n",
    "    \n",
    "    return text[start_index:end_index]"
   ]
  },
  {
   "cell_type": "code",
   "execution_count": 11,
   "id": "df4e17f4",
   "metadata": {},
   "outputs": [
    {
     "data": {
      "text/plain": [
       "'09/27/22'"
      ]
     },
     "execution_count": 11,
     "metadata": {},
     "output_type": "execute_result"
    }
   ],
   "source": [
    "get_bill_date()"
   ]
  },
  {
   "cell_type": "markdown",
   "id": "995b4565",
   "metadata": {},
   "source": [
    "## 2. Start Bill, End Bill, and Length of Bill Period"
   ]
  },
  {
   "cell_type": "code",
   "execution_count": 12,
   "id": "6ac5bd05",
   "metadata": {},
   "outputs": [],
   "source": [
    "# bill_period_start = 'Billing Period '\n",
    "# bill_period_end = '\\nYour next'"
   ]
  },
  {
   "cell_type": "code",
   "execution_count": 13,
   "id": "9612b409",
   "metadata": {},
   "outputs": [],
   "source": [
    "# bill_parse = find_text(bill_period_start, bill_period_end)\n",
    "# bill_parse"
   ]
  },
  {
   "cell_type": "code",
   "execution_count": 14,
   "id": "f180c39d",
   "metadata": {},
   "outputs": [],
   "source": [
    "# find_text(bill_period_start, bill_period_end, text = test_text)"
   ]
  },
  {
   "cell_type": "markdown",
   "id": "dfa6878b",
   "metadata": {},
   "source": [
    "### Parsing out Start Bill, End Bill, and Length of Bill Period"
   ]
  },
  {
   "cell_type": "code",
   "execution_count": 15,
   "id": "afeec7ae",
   "metadata": {},
   "outputs": [],
   "source": [
    "# beg_bill_date = ''.join(re.findall(r'^[a-zA-Z0-9\\s]+[\\s\\s]+[0-9?\\s,0-9]+', bill_parse))\n",
    "# beg_bill_date"
   ]
  },
  {
   "cell_type": "code",
   "execution_count": 16,
   "id": "b4de8dbb",
   "metadata": {},
   "outputs": [],
   "source": [
    "# !pip install arrow\n",
    "import arrow"
   ]
  },
  {
   "cell_type": "code",
   "execution_count": 17,
   "id": "c7340123",
   "metadata": {},
   "outputs": [],
   "source": [
    "# bill_start = arrow.get(beg_bill_date, 'MMM DD, YYYY ').format('YYYY-MM-DD')\n",
    "# bill_start"
   ]
  },
  {
   "cell_type": "code",
   "execution_count": 18,
   "id": "ba729fb0",
   "metadata": {},
   "outputs": [],
   "source": [
    "# bill_end_date = ''.join(re.findall(r'-[a-zA-Z0-9\\s]+[\\s\\s]+[0-9?\\s,0-9]+', bill_parse))\n",
    "# bill_end_date"
   ]
  },
  {
   "cell_type": "code",
   "execution_count": 19,
   "id": "31f2ac32",
   "metadata": {},
   "outputs": [],
   "source": [
    "# bill_end = arrow.get(bill_end_date, '- MMM DD, YYYY').format('YYYY-MM-DD')\n",
    "# bill_end"
   ]
  },
  {
   "cell_type": "code",
   "execution_count": 20,
   "id": "fe17e2ed",
   "metadata": {},
   "outputs": [],
   "source": [
    "# pd.to_datetime(bill_end) - pd.to_datetime(bill_start)"
   ]
  },
  {
   "cell_type": "code",
   "execution_count": 21,
   "id": "df8f3519",
   "metadata": {},
   "outputs": [],
   "source": [
    "import datetime as dt"
   ]
  },
  {
   "cell_type": "code",
   "execution_count": 22,
   "id": "79b11b0d",
   "metadata": {},
   "outputs": [],
   "source": [
    "# bill_days = (pd.to_datetime(bill_end) - pd.to_datetime(bill_start)).days + 1\n",
    "# bill_days"
   ]
  },
  {
   "cell_type": "code",
   "execution_count": 80,
   "id": "f07ecea5",
   "metadata": {},
   "outputs": [],
   "source": [
    "def get_bill_period(text_ = text, str_start = 'Billing Period ', str_end = '\\nYour next'):\n",
    "    '''\n",
    "    \n",
    "    '''\n",
    "    bill_parse = parse_text(str_start, str_end, text_)\n",
    "    print(f'Parsed Bill Period: {bill_parse}')\n",
    "    \n",
    "    bill_start = ''.join(re.findall(r'^[a-zA-Z0-9\\s]+[\\s\\s]+[0-9?\\s,0-9]+', bill_parse))\n",
    "    bill_start = arrow.get(bill_start, 'MMM DD, YYYY ').format('YYYY-MM-DD')\n",
    "    print(f'Parsed Bill Start: {bill_start}')\n",
    "    \n",
    "    bill_end = ''.join(re.findall(r'-[a-zA-Z0-9\\s]+[\\s\\s]+[0-9?\\s,0-9]+', bill_parse))\n",
    "    bill_end = arrow.get(bill_end, '- MMM DD, YYYY').format('YYYY-MM-DD')\n",
    "    print(f'Parsed Bill End: {bill_end}')\n",
    "    \n",
    "    bill_period = (pd.to_datetime(bill_end) - pd.to_datetime(bill_start)).days + 1\n",
    "    print(f'Parsed Bill Period Duration: {bill_period} days')\n",
    "    print()\n",
    "    \n",
    "    return bill_start, bill_end, bill_period"
   ]
  },
  {
   "cell_type": "code",
   "execution_count": 81,
   "id": "16ed99c6",
   "metadata": {},
   "outputs": [
    {
     "name": "stdout",
     "output_type": "stream",
     "text": [
      "Parsed Bill Period: Aug 24, 2022 - Sep 23, 2022\n",
      "Parsed Bill Start: 2022-08-24\n",
      "Parsed Bill End: 2022-09-23\n",
      "Parsed Bill Period Duration: 31 days\n",
      "\n"
     ]
    },
    {
     "data": {
      "text/plain": [
       "('2022-08-24', '2022-09-23', 31)"
      ]
     },
     "execution_count": 81,
     "metadata": {},
     "output_type": "execute_result"
    }
   ],
   "source": [
    "get_bill_period()"
   ]
  },
  {
   "cell_type": "code",
   "execution_count": 82,
   "id": "bb3c3cbd",
   "metadata": {},
   "outputs": [
    {
     "name": "stdout",
     "output_type": "stream",
     "text": [
      "Parsed Bill Period: Jul 26, 2022 - Aug 23, 2022\n",
      "Parsed Bill Start: 2022-07-26\n",
      "Parsed Bill End: 2022-08-23\n",
      "Parsed Bill Period Duration: 29 days\n",
      "\n"
     ]
    },
    {
     "data": {
      "text/plain": [
       "('2022-07-26', '2022-08-23', 29)"
      ]
     },
     "execution_count": 82,
     "metadata": {},
     "output_type": "execute_result"
    }
   ],
   "source": [
    "get_bill_period(text_ = test_text)"
   ]
  },
  {
   "cell_type": "code",
   "execution_count": 88,
   "id": "1dca07b6",
   "metadata": {},
   "outputs": [
    {
     "name": "stdout",
     "output_type": "stream",
     "text": [
      "Parsed Bill Period: Aug 24, 2022 - Sep 23, 2022\n",
      "Parsed Bill Start: 2022-08-24\n",
      "Parsed Bill End: 2022-09-23\n",
      "Parsed Bill Period Duration: 31 days\n",
      "\n",
      "Parsed Bill Period: Jul 26, 2022 - Aug 23, 2022\n",
      "Parsed Bill Start: 2022-07-26\n",
      "Parsed Bill End: 2022-08-23\n",
      "Parsed Bill Period Duration: 29 days\n",
      "\n"
     ]
    },
    {
     "data": {
      "text/html": [
       "<div>\n",
       "<style scoped>\n",
       "    .dataframe tbody tr th:only-of-type {\n",
       "        vertical-align: middle;\n",
       "    }\n",
       "\n",
       "    .dataframe tbody tr th {\n",
       "        vertical-align: top;\n",
       "    }\n",
       "\n",
       "    .dataframe thead th {\n",
       "        text-align: right;\n",
       "    }\n",
       "</style>\n",
       "<table border=\"1\" class=\"dataframe\">\n",
       "  <thead>\n",
       "    <tr style=\"text-align: right;\">\n",
       "      <th></th>\n",
       "      <th>bill_start</th>\n",
       "      <th>bill_end</th>\n",
       "      <th>bill_days</th>\n",
       "    </tr>\n",
       "  </thead>\n",
       "  <tbody>\n",
       "    <tr>\n",
       "      <th>0</th>\n",
       "      <td>2022-08-24</td>\n",
       "      <td>2022-09-23</td>\n",
       "      <td>31</td>\n",
       "    </tr>\n",
       "    <tr>\n",
       "      <th>1</th>\n",
       "      <td>2022-07-26</td>\n",
       "      <td>2022-08-23</td>\n",
       "      <td>29</td>\n",
       "    </tr>\n",
       "  </tbody>\n",
       "</table>\n",
       "</div>"
      ],
      "text/plain": [
       "   bill_start    bill_end  bill_days\n",
       "0  2022-08-24  2022-09-23         31\n",
       "1  2022-07-26  2022-08-23         29"
      ]
     },
     "execution_count": 88,
     "metadata": {},
     "output_type": "execute_result"
    }
   ],
   "source": [
    "df_bill_period = pd.DataFrame([get_bill_period(), get_bill_period(text_ = test_text)], \\\n",
    "             columns = ['bill_start', 'bill_end', 'bill_days'])\n",
    "df_bill_period"
   ]
  },
  {
   "cell_type": "code",
   "execution_count": 91,
   "id": "6f4a779d",
   "metadata": {},
   "outputs": [
    {
     "data": {
      "text/html": [
       "<div>\n",
       "<style scoped>\n",
       "    .dataframe tbody tr th:only-of-type {\n",
       "        vertical-align: middle;\n",
       "    }\n",
       "\n",
       "    .dataframe tbody tr th {\n",
       "        vertical-align: top;\n",
       "    }\n",
       "\n",
       "    .dataframe thead th {\n",
       "        text-align: right;\n",
       "    }\n",
       "</style>\n",
       "<table border=\"1\" class=\"dataframe\">\n",
       "  <thead>\n",
       "    <tr style=\"text-align: right;\">\n",
       "      <th></th>\n",
       "      <th>billing_date</th>\n",
       "      <th>bill_start</th>\n",
       "      <th>bill_end</th>\n",
       "      <th>bill_days</th>\n",
       "    </tr>\n",
       "  </thead>\n",
       "  <tbody>\n",
       "    <tr>\n",
       "      <th>0</th>\n",
       "      <td>09/27/22</td>\n",
       "      <td>2022-08-24</td>\n",
       "      <td>2022-09-23</td>\n",
       "      <td>31</td>\n",
       "    </tr>\n",
       "    <tr>\n",
       "      <th>1</th>\n",
       "      <td>08/25/22</td>\n",
       "      <td>2022-07-26</td>\n",
       "      <td>2022-08-23</td>\n",
       "      <td>29</td>\n",
       "    </tr>\n",
       "  </tbody>\n",
       "</table>\n",
       "</div>"
      ],
      "text/plain": [
       "  billing_date  bill_start    bill_end  bill_days\n",
       "0     09/27/22  2022-08-24  2022-09-23         31\n",
       "1     08/25/22  2022-07-26  2022-08-23         29"
      ]
     },
     "execution_count": 91,
     "metadata": {},
     "output_type": "execute_result"
    }
   ],
   "source": [
    "pd.concat([df_bill_date, df_bill_period], axis = 1)"
   ]
  },
  {
   "cell_type": "markdown",
   "id": "bbe60395",
   "metadata": {},
   "source": [
    "## 3. Meter and Consumption"
   ]
  },
  {
   "cell_type": "code",
   "execution_count": 48,
   "id": "3792e1e9",
   "metadata": {},
   "outputs": [
    {
     "data": {
      "text/plain": [
       "'09/23/2022) 7996378953 1,010'"
      ]
     },
     "execution_count": 48,
     "metadata": {},
     "output_type": "execute_result"
    }
   ],
   "source": [
    "find_text('(R-', '#6271330')"
   ]
  },
  {
   "cell_type": "code",
   "execution_count": 54,
   "id": "2e2e9fe4",
   "metadata": {
    "scrolled": true
   },
   "outputs": [
    {
     "data": {
      "text/plain": [
       "'79963'"
      ]
     },
     "execution_count": 54,
     "metadata": {},
     "output_type": "execute_result"
    }
   ],
   "source": [
    "# current meter reading\n",
    "find_text('(R-', '#6271330')[12:17]"
   ]
  },
  {
   "cell_type": "code",
   "execution_count": 59,
   "id": "75341394",
   "metadata": {},
   "outputs": [
    {
     "data": {
      "text/plain": [
       "79963"
      ]
     },
     "execution_count": 59,
     "metadata": {},
     "output_type": "execute_result"
    }
   ],
   "source": [
    "int(find_text('(R-', '#6271330')[12:17])"
   ]
  },
  {
   "cell_type": "code",
   "execution_count": 52,
   "id": "9cd49e40",
   "metadata": {},
   "outputs": [
    {
     "data": {
      "text/plain": [
       "'09/23/2022'"
      ]
     },
     "execution_count": 52,
     "metadata": {},
     "output_type": "execute_result"
    }
   ],
   "source": [
    "# meter read date\n",
    "find_text('(R-', '#6271330')[:10]"
   ]
  },
  {
   "cell_type": "code",
   "execution_count": 56,
   "id": "64c2d19b",
   "metadata": {
    "scrolled": true
   },
   "outputs": [
    {
     "data": {
      "text/plain": [
       "'2022-09-23'"
      ]
     },
     "execution_count": 56,
     "metadata": {},
     "output_type": "execute_result"
    }
   ],
   "source": [
    "arrow.get(find_text('(R-', '#6271330')[:10], 'MM/DD/YYYY').format('YYYY-MM-DD')"
   ]
  },
  {
   "cell_type": "code",
   "execution_count": 53,
   "id": "33dcda67",
   "metadata": {},
   "outputs": [
    {
     "data": {
      "text/plain": [
       "'1,010'"
      ]
     },
     "execution_count": 53,
     "metadata": {},
     "output_type": "execute_result"
    }
   ],
   "source": [
    "# consumption (kWh)\n",
    "find_text('(R-', '#6271330')[-5:]"
   ]
  },
  {
   "cell_type": "code",
   "execution_count": 58,
   "id": "e98de939",
   "metadata": {},
   "outputs": [
    {
     "data": {
      "text/plain": [
       "1010"
      ]
     },
     "execution_count": 58,
     "metadata": {},
     "output_type": "execute_result"
    }
   ],
   "source": [
    "int((find_text('(R-', '#6271330')[-5:]).replace(',', ''))"
   ]
  },
  {
   "cell_type": "code",
   "execution_count": 60,
   "id": "da9f2d63",
   "metadata": {},
   "outputs": [
    {
     "data": {
      "text/plain": [
       "410"
      ]
     },
     "execution_count": 60,
     "metadata": {},
     "output_type": "execute_result"
    }
   ],
   "source": [
    "# peak consumption\n",
    "int((find_text('(R-', '#6271330')[-5:]).replace(',', '')) - 600"
   ]
  },
  {
   "cell_type": "code",
   "execution_count": 68,
   "id": "299a8ee4",
   "metadata": {},
   "outputs": [],
   "source": [
    "def get_consumption(text_ = text):\n",
    "    '''\n",
    "    \n",
    "    '''\n",
    "    data = find_text('(R-', '#6271330', text_)\n",
    "    \n",
    "    # current meter reading\n",
    "    meter = find_text('(R-', '#6271330', text_)[12:17]\n",
    "    meter = int(meter)\n",
    "    \n",
    "    # meter read date\n",
    "    meter_date = find_text('(R-', '#6271330', text_)[:10]\n",
    "    meter_date = arrow.get(meter_date, 'MM/DD/YYYY').format('YYYY-MM-DD')\n",
    "    \n",
    "    # consumption (kWh)\n",
    "    consumption = find_text('(R-', '#6271330', text_)[-5:]\n",
    "    consumption = int(consumption.replace(',', ''))\n",
    "    \n",
    "    # peak consumption (kWh)\n",
    "    peak = consumption - 600\n",
    "    \n",
    "    return meter_date, consumption, peak"
   ]
  },
  {
   "cell_type": "code",
   "execution_count": 69,
   "id": "3176a913",
   "metadata": {},
   "outputs": [
    {
     "data": {
      "text/plain": [
       "('2022-09-23', 1010, 410)"
      ]
     },
     "execution_count": 69,
     "metadata": {},
     "output_type": "execute_result"
    }
   ],
   "source": [
    "get_consumption()"
   ]
  },
  {
   "cell_type": "code",
   "execution_count": 70,
   "id": "121353b4",
   "metadata": {},
   "outputs": [
    {
     "data": {
      "text/plain": [
       "('2022-08-23', 1164, 564)"
      ]
     },
     "execution_count": 70,
     "metadata": {},
     "output_type": "execute_result"
    }
   ],
   "source": [
    "get_consumption(text_ = test_text)"
   ]
  },
  {
   "cell_type": "code",
   "execution_count": 92,
   "id": "a539fa71",
   "metadata": {},
   "outputs": [
    {
     "data": {
      "text/html": [
       "<div>\n",
       "<style scoped>\n",
       "    .dataframe tbody tr th:only-of-type {\n",
       "        vertical-align: middle;\n",
       "    }\n",
       "\n",
       "    .dataframe tbody tr th {\n",
       "        vertical-align: top;\n",
       "    }\n",
       "\n",
       "    .dataframe thead th {\n",
       "        text-align: right;\n",
       "    }\n",
       "</style>\n",
       "<table border=\"1\" class=\"dataframe\">\n",
       "  <thead>\n",
       "    <tr style=\"text-align: right;\">\n",
       "      <th></th>\n",
       "      <th>meter_date</th>\n",
       "      <th>consumption</th>\n",
       "      <th>peak</th>\n",
       "    </tr>\n",
       "  </thead>\n",
       "  <tbody>\n",
       "    <tr>\n",
       "      <th>0</th>\n",
       "      <td>2022-09-23</td>\n",
       "      <td>1010</td>\n",
       "      <td>410</td>\n",
       "    </tr>\n",
       "    <tr>\n",
       "      <th>1</th>\n",
       "      <td>2022-08-23</td>\n",
       "      <td>1164</td>\n",
       "      <td>564</td>\n",
       "    </tr>\n",
       "  </tbody>\n",
       "</table>\n",
       "</div>"
      ],
      "text/plain": [
       "   meter_date  consumption  peak\n",
       "0  2022-09-23         1010   410\n",
       "1  2022-08-23         1164   564"
      ]
     },
     "execution_count": 92,
     "metadata": {},
     "output_type": "execute_result"
    }
   ],
   "source": [
    "df_con = pd.DataFrame([get_consumption(), get_consumption(text_ = test_text)], \\\n",
    "             columns = ['meter_date', 'consumption', 'peak'])\n",
    "df_con"
   ]
  },
  {
   "cell_type": "code",
   "execution_count": 93,
   "id": "4af6d6d7",
   "metadata": {},
   "outputs": [
    {
     "data": {
      "text/html": [
       "<div>\n",
       "<style scoped>\n",
       "    .dataframe tbody tr th:only-of-type {\n",
       "        vertical-align: middle;\n",
       "    }\n",
       "\n",
       "    .dataframe tbody tr th {\n",
       "        vertical-align: top;\n",
       "    }\n",
       "\n",
       "    .dataframe thead th {\n",
       "        text-align: right;\n",
       "    }\n",
       "</style>\n",
       "<table border=\"1\" class=\"dataframe\">\n",
       "  <thead>\n",
       "    <tr style=\"text-align: right;\">\n",
       "      <th></th>\n",
       "      <th>billing_date</th>\n",
       "      <th>bill_start</th>\n",
       "      <th>bill_end</th>\n",
       "      <th>bill_days</th>\n",
       "      <th>meter_date</th>\n",
       "      <th>consumption</th>\n",
       "      <th>peak</th>\n",
       "    </tr>\n",
       "  </thead>\n",
       "  <tbody>\n",
       "    <tr>\n",
       "      <th>0</th>\n",
       "      <td>09/27/22</td>\n",
       "      <td>2022-08-24</td>\n",
       "      <td>2022-09-23</td>\n",
       "      <td>31</td>\n",
       "      <td>2022-09-23</td>\n",
       "      <td>1010</td>\n",
       "      <td>410</td>\n",
       "    </tr>\n",
       "    <tr>\n",
       "      <th>1</th>\n",
       "      <td>08/25/22</td>\n",
       "      <td>2022-07-26</td>\n",
       "      <td>2022-08-23</td>\n",
       "      <td>29</td>\n",
       "      <td>2022-08-23</td>\n",
       "      <td>1164</td>\n",
       "      <td>564</td>\n",
       "    </tr>\n",
       "  </tbody>\n",
       "</table>\n",
       "</div>"
      ],
      "text/plain": [
       "  billing_date  bill_start    bill_end  bill_days  meter_date  consumption  \\\n",
       "0     09/27/22  2022-08-24  2022-09-23         31  2022-09-23         1010   \n",
       "1     08/25/22  2022-07-26  2022-08-23         29  2022-08-23         1164   \n",
       "\n",
       "   peak  \n",
       "0   410  \n",
       "1   564  "
      ]
     },
     "execution_count": 93,
     "metadata": {},
     "output_type": "execute_result"
    }
   ],
   "source": [
    "pd.concat([df_bill_date, df_bill_period, df_con], axis = 1)"
   ]
  },
  {
   "cell_type": "code",
   "execution_count": null,
   "id": "c880604a",
   "metadata": {},
   "outputs": [],
   "source": []
  }
 ],
 "metadata": {
  "kernelspec": {
   "display_name": "Python 3",
   "language": "python",
   "name": "python3"
  },
  "language_info": {
   "codemirror_mode": {
    "name": "ipython",
    "version": 3
   },
   "file_extension": ".py",
   "mimetype": "text/x-python",
   "name": "python",
   "nbconvert_exporter": "python",
   "pygments_lexer": "ipython3",
   "version": "3.8.8"
  }
 },
 "nbformat": 4,
 "nbformat_minor": 5
}
