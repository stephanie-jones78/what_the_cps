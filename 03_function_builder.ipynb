{
 "cells": [
  {
   "cell_type": "markdown",
   "id": "4c934c46",
   "metadata": {},
   "source": [
    "# Building Out Functions"
   ]
  },
  {
   "cell_type": "code",
   "execution_count": 83,
   "id": "d93c57e3",
   "metadata": {},
   "outputs": [],
   "source": [
    "# importing libraries\n",
    "import pandas as pd # data manipulation\n",
    "\n",
    "from tika import parser # pdf bill text extraction\n",
    "from wwo_hist import retrieve_hist_data # weather data api\n",
    "import re # text formatting with regex\n",
    "\n",
    "import arrow # date formatting\n",
    "import datetime as dt # date formatting\n",
    "\n",
    "import env # encoded data"
   ]
  },
  {
   "cell_type": "code",
   "execution_count": 2,
   "id": "da0b2474",
   "metadata": {},
   "outputs": [],
   "source": [
    "# storing august and september bill filepaths (september is for testing)\n",
    "filePath_aug = 'pdfs/2022-08-25_bill.pdf'\n",
    "filePath_sep = 'pdfs/2022-09-27_bill.pdf'"
   ]
  },
  {
   "cell_type": "code",
   "execution_count": 3,
   "id": "e6338df7",
   "metadata": {},
   "outputs": [],
   "source": [
    "# creating function for extracting text \n",
    "def extract_pdf(filePath):\n",
    "    '''\n",
    "    Argument(s)\n",
    "        - filePath (str): path to the pdf file to be extracted\n",
    "    Returns \n",
    "        - text (str): extracted pdf text\n",
    "    '''\n",
    "    \n",
    "    text = parser.from_file(filePath)['content']\n",
    "    print(f'Text extraction from {filePath} complete.')\n",
    "    \n",
    "    return text"
   ]
  },
  {
   "cell_type": "code",
   "execution_count": null,
   "id": "60a9b84f",
   "metadata": {},
   "outputs": [],
   "source": [
    "# text_aug = extract_pdf(filePath_aug)\n",
    "# text_aug[:1000]"
   ]
  },
  {
   "cell_type": "code",
   "execution_count": 33,
   "id": "a52a6e8e",
   "metadata": {},
   "outputs": [
    {
     "name": "stdout",
     "output_type": "stream",
     "text": [
      "22-08-25\n",
      "August\n",
      "Aug 25, 2022\n",
      "22-08-25\n",
      "\n",
      "22-09-27\n",
      "September\n",
      "Sep 27, 2022\n",
      "22-09-27\n",
      "\n"
     ]
    }
   ],
   "source": [
    "# working out code to loop through each month's pdf and store text in variable\n",
    "for file in [filePath_aug, filePath_sep]:\n",
    "    print(file[7:15])\n",
    "    print(arrow.get(file[10:12], 'MM').format('MMMM'))\n",
    "    print(arrow.get(file[7:15], 'YY-MM-DD').format('MMM DD, YYYY'))\n",
    "    print(arrow.get(file[7:15], 'YY-MM-DD').format('YYYY-MM-DD'))\n",
    "    print()"
   ]
  },
  {
   "cell_type": "markdown",
   "id": "54b9473c",
   "metadata": {},
   "source": [
    "# 🗑️ Didn't work \n",
    "Loop didn't store variables but saving code to reuse code parts that did work"
   ]
  },
  {
   "cell_type": "code",
   "execution_count": null,
   "id": "1e39253e",
   "metadata": {},
   "outputs": [],
   "source": [
    "# # testing loop\n",
    "# for file in [filePath_aug, filePath_sep]:\n",
    "#     print(arrow.get(file[10:12], 'MM').format('MMM').lower())\n",
    "#     exec(f'text_{arrow.get(file[10:12], \"MM\").format(\"MMM\").lower()} = extract_pdf(file)')"
   ]
  },
  {
   "cell_type": "code",
   "execution_count": null,
   "id": "90c44374",
   "metadata": {},
   "outputs": [],
   "source": [
    "# def loop_extract_pdfs(filePath_list):\n",
    "#     '''\n",
    "#     Argument(s)\n",
    "#         - filePath_list (list): path to the pdf file to be extracted\n",
    "#     Stores\n",
    "#         - extracted PDF text as str, variable name format: text_MMM (e.g. text_aug)\n",
    "    \n",
    "#     This function takes a list of pdf file paths, loops through them, applying the extract text function,\n",
    "#     storing the extracted text based on the pdf month. \n",
    "#     '''    \n",
    "    \n",
    "#     for file in filePath_list:\n",
    "#         exec(f'text_{arrow.get(file[10:12], \"MM\").format(\"MMM\").lower()} = extract_pdf(file)')\n",
    "#         print(f\"Text extracted for {arrow.get(file[7:15], 'YY-MM-DD').format('MMM DD, YYYY')} billing date.\")\n",
    "#         print(f'****Variable Name*****\\ntext_{arrow.get(file[10:12], \"MM\").format(\"MMM\").lower()}')\n",
    "#         print()\n",
    "        "
   ]
  },
  {
   "cell_type": "code",
   "execution_count": null,
   "id": "c0b8dd9b",
   "metadata": {},
   "outputs": [],
   "source": [
    "# loop_extract_pdfs([filePath_aug, filePath_sep])"
   ]
  },
  {
   "cell_type": "code",
   "execution_count": null,
   "id": "fc4d5db5",
   "metadata": {
    "scrolled": true
   },
   "outputs": [],
   "source": [
    "# # verifying extracted text stored\n",
    "# text_aug"
   ]
  },
  {
   "cell_type": "code",
   "execution_count": null,
   "id": "edd1c821",
   "metadata": {},
   "outputs": [],
   "source": [
    "# text_sep"
   ]
  },
  {
   "cell_type": "code",
   "execution_count": null,
   "id": "b7e82135",
   "metadata": {},
   "outputs": [],
   "source": [
    "# # storing file paths variables for each month in list\n",
    "# filePath_list = [filePath_aug, filePath_sep]"
   ]
  },
  {
   "cell_type": "code",
   "execution_count": null,
   "id": "22070aab",
   "metadata": {
    "scrolled": true
   },
   "outputs": [],
   "source": [
    "# # initiating empty dictionary to store extracted text as values and month labels as keys\n",
    "# text_dict = {}\n",
    "\n",
    "# # initializing empty list to store dictionary keys\n",
    "# text_list = []\n",
    "\n",
    "# # looping through each file path to extract text\n",
    "# for file in filePath_list:\n",
    "#     text_dict[f'text_{arrow.get(file[10:12], \"MM\").format(\"MMM\").lower()}'] = extract_pdf(file)\n",
    "#     text_list.append(f'text_{arrow.get(file[10:12], \"MM\").format(\"MMM\").lower()}')\n",
    "#     print(f'Dictionary Key: text_{arrow.get(file[10:12], \"MM\").format(\"MMM\").lower()}')\n",
    "#     print()\n",
    "    \n",
    "# # text_dict"
   ]
  },
  {
   "cell_type": "code",
   "execution_count": null,
   "id": "a0e9cc09",
   "metadata": {},
   "outputs": [],
   "source": [
    "# # verifying can access values in dictionary\n",
    "# text_list"
   ]
  },
  {
   "cell_type": "code",
   "execution_count": null,
   "id": "0c53d5a7",
   "metadata": {},
   "outputs": [],
   "source": [
    "# # verifying can access values through looping text_list\n",
    "# for value in text_dict.values():\n",
    "#     print(value)"
   ]
  },
  {
   "cell_type": "markdown",
   "id": "af0e879b",
   "metadata": {},
   "source": [
    "> Creating function that loops through list of pdf file paths and stores the text of those files"
   ]
  },
  {
   "cell_type": "code",
   "execution_count": 68,
   "id": "b286cbd4",
   "metadata": {},
   "outputs": [],
   "source": [
    "def looped_FileExtraction(filePath_list):\n",
    "    '''\n",
    "    This function takes in a list of pdf file paths, loops through that list and stores the extracted\n",
    "    text as dictionary values, creating associated key names based on the pdf name (bill month), and \n",
    "    reading that dictionary to pandas df.\n",
    "    \n",
    "    Args:\n",
    "        - filePath_list (list): list of pdf file paths as strings\n",
    "    \n",
    "    Returns:\n",
    "        - df: \n",
    "    '''\n",
    "    # initiating empty dictionary to store extracted text as values and month labels as keys\n",
    "    text_dict = {}\n",
    "\n",
    "    # initializing empty list to store dictionary keys\n",
    "    text_list = []\n",
    "\n",
    "    # looping through each file path to extract text using extract_pdf() function\n",
    "    for file in filePath_list:\n",
    "        text_dict[f'{arrow.get(file[7:15], \"YY-MM-DD\".format(\"YYY-MM-DD\"))}'[:10]] = extract_pdf(file)\n",
    "        text_list.append(f'text_{arrow.get(file[7:15], \"YY-MM-DD\".format(\"YYY-MM-DD\"))}')\n",
    "        \n",
    "    # writing dictionary to df\n",
    "    df = pd.DataFrame.from_dict(text_dict, orient='index', columns = ['text'])\n",
    "    df.reset_index(inplace = True)\n",
    "    df.rename(columns = {'index':'bill_date'}, inplace = True)\n",
    "    \n",
    "    return df"
   ]
  },
  {
   "cell_type": "code",
   "execution_count": 70,
   "id": "042b2bfe",
   "metadata": {},
   "outputs": [
    {
     "name": "stdout",
     "output_type": "stream",
     "text": [
      "Text extraction from pdfs/2022-08-25_bill.pdf complete.\n",
      "Text extraction from pdfs/2022-09-27_bill.pdf complete.\n"
     ]
    },
    {
     "data": {
      "text/html": [
       "<div>\n",
       "<style scoped>\n",
       "    .dataframe tbody tr th:only-of-type {\n",
       "        vertical-align: middle;\n",
       "    }\n",
       "\n",
       "    .dataframe tbody tr th {\n",
       "        vertical-align: top;\n",
       "    }\n",
       "\n",
       "    .dataframe thead th {\n",
       "        text-align: right;\n",
       "    }\n",
       "</style>\n",
       "<table border=\"1\" class=\"dataframe\">\n",
       "  <thead>\n",
       "    <tr style=\"text-align: right;\">\n",
       "      <th></th>\n",
       "      <th>bill_date</th>\n",
       "      <th>text</th>\n",
       "    </tr>\n",
       "  </thead>\n",
       "  <tbody>\n",
       "    <tr>\n",
       "      <th>0</th>\n",
       "      <td>2022-08-25</td>\n",
       "      <td>\\n\\n\\n\\n\\n\\n\\n\\n\\n\\n\\n\\n\\n\\n\\n\\n\\n\\n\\n\\n\\n\\n\\n...</td>\n",
       "    </tr>\n",
       "    <tr>\n",
       "      <th>1</th>\n",
       "      <td>2022-09-27</td>\n",
       "      <td>\\n\\n\\n\\n\\n\\n\\n\\n\\n\\n\\n\\n\\n\\n\\n\\n\\n\\n\\n\\n\\n\\n\\n...</td>\n",
       "    </tr>\n",
       "  </tbody>\n",
       "</table>\n",
       "</div>"
      ],
      "text/plain": [
       "    bill_date                                               text\n",
       "0  2022-08-25  \\n\\n\\n\\n\\n\\n\\n\\n\\n\\n\\n\\n\\n\\n\\n\\n\\n\\n\\n\\n\\n\\n\\n...\n",
       "1  2022-09-27  \\n\\n\\n\\n\\n\\n\\n\\n\\n\\n\\n\\n\\n\\n\\n\\n\\n\\n\\n\\n\\n\\n\\n..."
      ]
     },
     "execution_count": 70,
     "metadata": {},
     "output_type": "execute_result"
    }
   ],
   "source": [
    "# verifying function works\n",
    "df = looped_FileExtraction([filePath_aug, filePath_sep])\n",
    "df"
   ]
  },
  {
   "cell_type": "markdown",
   "id": "48cbec03",
   "metadata": {},
   "source": [
    "## Text Extraction Function"
   ]
  },
  {
   "cell_type": "code",
   "execution_count": 92,
   "id": "4849f8a0",
   "metadata": {},
   "outputs": [],
   "source": [
    "def extract_text(text, str_start, str_end):\n",
    "    '''\n",
    "    This functiont takes in a full text string and returns the text extracted from between the string start\n",
    "    index and string end index. \n",
    "    '''\n",
    "    start_index = text.index(str_start) + len(str_start)\n",
    "#     print(f'Starting Index: {start_index}')\n",
    "    end_index = text.index(str_end, start_index)\n",
    "#     print(f'Ending Index: {end_index}')\n",
    "    \n",
    "    extracted_text = text[start_index:end_index]\n",
    "    \n",
    "    return extracted_text"
   ]
  },
  {
   "cell_type": "code",
   "execution_count": 93,
   "id": "3fba2229",
   "metadata": {},
   "outputs": [
    {
     "data": {
      "text/plain": [
       "'08/25/22'"
      ]
     },
     "execution_count": 93,
     "metadata": {},
     "output_type": "execute_result"
    }
   ],
   "source": [
    "# testing function\n",
    "extract_text(df.text[0], f'{env.zip}\\n\\n', '\\n\\nOn or Before')"
   ]
  },
  {
   "cell_type": "code",
   "execution_count": null,
   "id": "a3d0551f",
   "metadata": {},
   "outputs": [],
   "source": []
  },
  {
   "cell_type": "code",
   "execution_count": null,
   "id": "aa4d8233",
   "metadata": {},
   "outputs": [],
   "source": []
  },
  {
   "cell_type": "code",
   "execution_count": null,
   "id": "ce602939",
   "metadata": {},
   "outputs": [],
   "source": []
  },
  {
   "cell_type": "markdown",
   "id": "7b76ff85",
   "metadata": {},
   "source": [
    "Data to be parsed\n",
    "### Billing Info\n",
    "✅ Bill Detail | Label | Description\n",
    ":-- | :-- | :--\n",
    "✅ Billing Date | `bill_date` | YYYY-MM-DD\n",
    "✅ Billing Period Start | `bill_start` | YYYY-MM-DD | Start date of the billing period\n",
    "✅ Billing Period End | `bill_end` | YYYY-MM-DD | End date of the billing period\n",
    "✅ Billing Period (days) | `bill_period_days` | *int*, number of days in billing period, `bill_end` - `bill_start`\n",
    "✅ Meter Read | `meter` | The meter reading"
   ]
  },
  {
   "cell_type": "code",
   "execution_count": 71,
   "id": "ac31705a",
   "metadata": {},
   "outputs": [
    {
     "data": {
      "text/plain": [
       "0    \\n\\n\\n\\n\\n\\n\\n\\n\\n\\n\\n\\n\\n\\n\\n\\n\\n\\n\\n\\n\\n\\n\\n...\n",
       "1    \\n\\n\\n\\n\\n\\n\\n\\n\\n\\n\\n\\n\\n\\n\\n\\n\\n\\n\\n\\n\\n\\n\\n...\n",
       "Name: text, dtype: object"
      ]
     },
     "execution_count": 71,
     "metadata": {},
     "output_type": "execute_result"
    }
   ],
   "source": [
    "# how to get series of each bill's extracted text\n",
    "df.text"
   ]
  },
  {
   "cell_type": "code",
   "execution_count": 108,
   "id": "485272c8",
   "metadata": {
    "scrolled": true
   },
   "outputs": [],
   "source": [
    "# # how to isolate each row text\n",
    "# df.text[0]"
   ]
  },
  {
   "cell_type": "code",
   "execution_count": 153,
   "id": "a97feca5",
   "metadata": {
    "scrolled": false
   },
   "outputs": [
    {
     "name": "stdout",
     "output_type": "stream",
     "text": [
      "Parsed Bill Period: Jul 26, 2022 - Aug 23, 2022\n",
      "Parsed Bill Start: 2022-07-26\n",
      "Parsed Bill End: 2022-08-23\n",
      "Parsed Bill Period Duration: 29 days\n",
      "\n",
      "Parsed Bill Period: Aug 24, 2022 - Sep 23, 2022\n",
      "Parsed Bill Start: 2022-08-24\n",
      "Parsed Bill End: 2022-09-23\n",
      "Parsed Bill Period Duration: 31 days\n",
      "\n"
     ]
    }
   ],
   "source": [
    "# working on loop that will be used in function to extract the rest of the billing date data\n",
    "for text in df.text:\n",
    "    # extacting raw billing period\n",
    "    test_dateData = extract_text(text, 'Billing Period ', '\\nYour next')\n",
    "    print(f'Parsed Bill Period: {test_dateData}')\n",
    "    \n",
    "    # extracting bill start\n",
    "#     bill_start = ''.join(re.findall(r'^[a-zA-Z0-9\\s]+[\\s\\s]+[0-9?\\s,0-9]+', test_dateData))\n",
    "    bill_start = test_dateData.split('-')[0].strip()\n",
    "    # formatting date\n",
    "    bill_start = arrow.get(bill_start, 'MMM DD, YYYY').format('YYYY-MM-DD')\n",
    "    print(f'Parsed Bill Start: {bill_start}')\n",
    "    \n",
    "    # extracting bill end\n",
    "#     bill_end = ''.join(re.findall(r'-[a-zA-Z0-9\\s]+[\\s\\s]+[0-9?\\s,0-9]+', test_dateData))\n",
    "    bill_end = test_dateData.split('-')[1].strip()\n",
    "    # formatting date\n",
    "    bill_end = arrow.get(bill_end, 'MMM DD, YYYY').format('YYYY-MM-DD')\n",
    "    print(f'Parsed Bill End: {bill_end}')\n",
    "    \n",
    "    # using bill start and end dates to get number of days in billing period\n",
    "    bill_days = (pd.to_datetime(bill_end) - pd.to_datetime(bill_start)).days + 1\n",
    "    print(f'Parsed Bill Period Duration: {bill_days} days')\n",
    "    \n",
    "    print()"
   ]
  },
  {
   "cell_type": "code",
   "execution_count": 138,
   "id": "31d66b93",
   "metadata": {},
   "outputs": [
    {
     "data": {
      "text/plain": [
       "['Jul 26, 2022 ', ' Aug 23, 2022']"
      ]
     },
     "execution_count": 138,
     "metadata": {},
     "output_type": "execute_result"
    }
   ],
   "source": [
    "extract_text(text, 'Billing Period ', '\\nYour next').split('-')"
   ]
  },
  {
   "cell_type": "code",
   "execution_count": 164,
   "id": "2998643d",
   "metadata": {},
   "outputs": [
    {
     "name": "stdout",
     "output_type": "stream",
     "text": [
      "Parsed Bill Start: \t\t2022-07-26\n",
      "Parsed Bill End: \t\t2022-08-23\n",
      "Parsed Bill Period Duration: \t29 days\n",
      "Meter read date: \t\t2022-08-23\n",
      "Current meter reading: \t\t78953\n",
      "Consumption: \t\t\t1164\n",
      "Peak consumption for all 12mos: 564\n",
      "\n",
      "Parsed Bill Start: \t\t2022-08-24\n",
      "Parsed Bill End: \t\t2022-09-23\n",
      "Parsed Bill Period Duration: \t31 days\n",
      "Meter read date: \t\t2022-09-23\n",
      "Current meter reading: \t\t79963\n",
      "Consumption: \t\t\t1010\n",
      "Peak consumption for all 12mos: 410\n",
      "\n"
     ]
    }
   ],
   "source": [
    "# for loop to extract meter reading, read date, and consumption\n",
    "for text in df.text:\n",
    "    \n",
    "    # extacting raw billing period\n",
    "    test_dateData = extract_text(text, 'Billing Period ', '\\nYour next')\n",
    "#     print(f'Parsed Bill Period: {test_dateData}')\n",
    "    \n",
    "    # extracting bill start\n",
    "#     bill_start = ''.join(re.findall(r'^[a-zA-Z0-9\\s]+[\\s\\s]+[0-9?\\s,0-9]+', test_dateData))\n",
    "    bill_start = test_dateData.split('-')[0].strip()\n",
    "    # formatting date\n",
    "    bill_start = arrow.get(bill_start, 'MMM DD, YYYY').format('YYYY-MM-DD')\n",
    "    print(f'Parsed Bill Start: \\t\\t{bill_start}')\n",
    "    \n",
    "    # extracting bill end\n",
    "#     bill_end = ''.join(re.findall(r'-[a-zA-Z0-9\\s]+[\\s\\s]+[0-9?\\s,0-9]+', test_dateData))\n",
    "    bill_end = test_dateData.split('-')[1].strip()\n",
    "    # formatting date\n",
    "    bill_end = arrow.get(bill_end, 'MMM DD, YYYY').format('YYYY-MM-DD')\n",
    "    print(f'Parsed Bill End: \\t\\t{bill_end}')\n",
    "    \n",
    "    # using bill start and end dates to get number of days in billing period\n",
    "    bill_days = (pd.to_datetime(bill_end) - pd.to_datetime(bill_start)).days + 1\n",
    "    print(f'Parsed Bill Period Duration: \\t{bill_days} days')\n",
    "    \n",
    "    #################\n",
    "    \n",
    "    list_ = extract_text(text, 'R-', '#6271330').replace(')', '').replace(',', '').split()\n",
    "#     print(f'List values: {list_}')\n",
    "    \n",
    "    meter_date = arrow.get(list_[0], 'MM/DD/YYYY').format('YYYY-MM-DD')\n",
    "    print(f'Meter read date: \\t\\t{meter_date}')\n",
    "    \n",
    "    meter = int(list_[1][:5])\n",
    "    print(f'Current meter reading: \\t\\t{meter}')\n",
    "    \n",
    "    consumption = int(list_[2])\n",
    "    print(f'Consumption: \\t\\t\\t{consumption}')\n",
    "    \n",
    "    peak_all = int(consumption - 600)\n",
    "    print(f'Peak consumption for all 12mos: {peak_all}')\n",
    "    \n",
    "    print()"
   ]
  },
  {
   "cell_type": "code",
   "execution_count": null,
   "id": "cf1746e1",
   "metadata": {},
   "outputs": [],
   "source": []
  },
  {
   "cell_type": "code",
   "execution_count": null,
   "id": "f9fd54dc",
   "metadata": {},
   "outputs": [],
   "source": [
    "    "
   ]
  },
  {
   "cell_type": "code",
   "execution_count": null,
   "id": "06143778",
   "metadata": {},
   "outputs": [],
   "source": []
  },
  {
   "cell_type": "code",
   "execution_count": null,
   "id": "756a1b84",
   "metadata": {},
   "outputs": [],
   "source": []
  },
  {
   "cell_type": "code",
   "execution_count": null,
   "id": "8038b8b0",
   "metadata": {},
   "outputs": [],
   "source": []
  },
  {
   "cell_type": "code",
   "execution_count": null,
   "id": "f6a0ec6a",
   "metadata": {},
   "outputs": [],
   "source": []
  },
  {
   "cell_type": "code",
   "execution_count": null,
   "id": "9ac57023",
   "metadata": {},
   "outputs": [],
   "source": []
  },
  {
   "cell_type": "code",
   "execution_count": null,
   "id": "21aad6be",
   "metadata": {},
   "outputs": [],
   "source": []
  },
  {
   "cell_type": "markdown",
   "id": "0c9b7173",
   "metadata": {},
   "source": [
    "### Charges\n",
    "Charge Detail | Label | Description\n",
    ":-- | :-- | :--\n",
    "*Service Availablity Charge | `service_charge` | *float*, Covers the cost of metering and billing for your address, regardless of consumption\n",
    "✅ Energy Consumption | `consumption` | kWh Used\n",
    "Base rate | `consumption_rate` | *float*, per kWh charge for consumption\n",
    "Energy Charge | `consumption_charge` | *float*, Recovers costs for power plants and other infrastructure based on the amount of electricity you use, `consumption` * `consumption_rate`\n",
    "*Peak Consumption | `peak` | *float*, kWh used in excess of 600\n",
    "✅ Peak Consumption - All Months | `peak_all`| *float*, kWh used in excess of 600 for all months \n",
    "Peak Consumption Rate | `peak_rate` | *float*, per kWh charge for peak consumption\n",
    "Peak Consumption Charge | `peak_charge` | *float*, The Peak Capacity Charge covers the higher costs for electricity CPS Energy incurs during summer months when demand for electricity is at its highest\n",
    "*Fuel Adjustment Rate | `fuel_rate` | *float*, The cost for fuel above the base rate. \n",
    "Fuel Adjustment Charge | `fuel_charge` | *float*, `fuel_rate` * `consumption`, The fuel adjustment covers the difference between the base rate customers are charged for natural gas use and how much it actually costs to get and deliver that gas. This charge fluctuates with the market price of natural gas.\n",
    "Regualtory Adjustment Rate | `regulatory_rate` | *float*, This covers two costs — the cost of statewide transmission and the cost CPS Energy pays to be a part of the Electric Reliability Council of Texas (ERCOT).\n",
    "Regulatory Adjustment Charge | `regulatory_charge` | *float*, `regulatory_rate` * `consumption` \n",
    "Total Bill Amount | `total_bill` | *float*, (1) `service_charge` + (2) `consumption_charge` + (3) `peak_charge` + (4) `fuel_charge` + (5) `regulatory_charge`"
   ]
  },
  {
   "cell_type": "code",
   "execution_count": null,
   "id": "d7f6fca6",
   "metadata": {},
   "outputs": [],
   "source": []
  },
  {
   "cell_type": "markdown",
   "id": "61ce516a",
   "metadata": {},
   "source": [
    "### Weather Data\n",
    "Weather Detail | Label | Description\n",
    ":-- | :-- | :--\n",
    "Weather Date | `date` | Date of weather observation\n",
    "Feels Like Temp | `temp_feels`\n",
    "Max Temp | `temp_max`| \n",
    "Min Temp | `temp_min`| \n",
    "Temp Spread | `temp_spread`| `temp_max` = `temp_min`\n",
    "Humidity | `humidity`| \n",
    "Heat Index | `heat_index`| \n",
    "Wind Chill | `wind_chill`| \n",
    "Wind Gust | `wind_gust`| \n",
    "Cloud Cover | `cloud_cover`| \n",
    "Precipitation | `precip`| \n",
    "Sun Hours | `sun_hrs`| \n",
    "Sunrise | `sunrise`| \n",
    "Sunset | `sunset`| "
   ]
  },
  {
   "cell_type": "code",
   "execution_count": null,
   "id": "b4d47105",
   "metadata": {},
   "outputs": [],
   "source": []
  }
 ],
 "metadata": {
  "kernelspec": {
   "display_name": "Python 3",
   "language": "python",
   "name": "python3"
  },
  "language_info": {
   "codemirror_mode": {
    "name": "ipython",
    "version": 3
   },
   "file_extension": ".py",
   "mimetype": "text/x-python",
   "name": "python",
   "nbconvert_exporter": "python",
   "pygments_lexer": "ipython3",
   "version": "3.8.8"
  }
 },
 "nbformat": 4,
 "nbformat_minor": 5
}
