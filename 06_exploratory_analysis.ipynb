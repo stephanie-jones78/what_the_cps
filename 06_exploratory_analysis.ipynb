{
 "cells": [
  {
   "cell_type": "markdown",
   "id": "42301328",
   "metadata": {},
   "source": [
    "# Exploratory Data Analysis\n",
    "## Data\n",
    "### Bill Inffo\n",
    "\n",
    "Bill Detail | Label | Description\n",
    ":-- | :-- | :--\n",
    "Billing Date | `bill_date` | YYYY-MM-DD\n",
    "Billing Period Start | `bill_start` | YYYY-MM-DD | Start date of the billing period\n",
    "Billing Period End | `bill_end` | YYYY-MM-DD | End date of the billing period\n",
    "Billing Period (days) | `bill_period_days` | *int*, number of days in billing period, `bill_end` - `bill_start`\n",
    "\n",
    "### Base Amounts\n",
    "\n",
    "Base Figure | Label | Description\n",
    ":-- | :-- | :--\n",
    "Meter Read | `meter` | The meter reading\n",
    "Energy Consumption | `consumption` | kWh Used\n",
    "*Peak Consumption | `peak` | *float*, kWh used in excess of 600 during designated peak months;\n",
    "Peak Consumption - All Months | `peak_all`| kWh used in excess of 600 for all months\n",
    "\n",
    "### Rates\n",
    "\n",
    "Rate Detail | Label | Description\n",
    ":-- | :-- | :--\n",
    "Base rate | `consumption_rate` | *float*, per kWh charge for consumption\n",
    "Peak Consumption Rate | `peak_rate` | *float*, per kWh charge for peak consumption\n",
    "*Fuel Adjustment Rate | `fuel_rate` | *float*, The cost for fuel above the base rate\n",
    "Regualtory Adjustment Rate | `regulatory_rate` | *float*, This covers two costs — the cost of statewide transmission and the cost CPS Energy pays to be a part of the Electric Reliability Council of Texas (ERCOT)\n",
    "\n",
    "### Charges\n",
    "\n",
    "Charge Detail | Label | Description\n",
    ":-- | :-- | :--\n",
    "*Service Availablity Charge | `service_charge` | *float*, Covers the cost of metering and billing for your address, regardless of consumption\n",
    "Energy Charge | `consumption_charge` | *float*, Recovers costs for power plants and other infrastructure based on the amount of electricity you use, `consumption` * `consumption_rate` \n",
    "Peak Consumption Charge | `peak_charge` | *float*, The Peak Capacity Charge covers the higher costs for electricity CPS Energy incurs during summer months when demand for electricity is at its highest\n",
    "Fuel Adjustment Charge | `fuel_charge` | *float*, `fuel_rate` * `consumption`, The fuel adjustment covers the difference between the base rate customers are charged for natural gas use and how much it actually costs to get and deliver that gas. This charge fluctuates with the market price of natural gas.\n",
    "Regulatory Adjustment Charge | `regulatory_charge` | *float*, `regulatory_rate` * `consumption` \n",
    "Total Bill Amount | `total_bill` | *float*, (1) `service_charge` + (2) `consumption_charge` + (3) `peak_charge` + (4) `fuel_charge` + (5) `regulatory_charge`\n",
    "\n",
    "### Feature Engineering\n",
    "Variable Detail | Label | Description\n",
    ":-- | :-- | :--\n",
    "\n"
   ]
  },
  {
   "cell_type": "markdown",
   "id": "c3c0725c",
   "metadata": {},
   "source": [
    "## Inital Hypotheses\n",
    "- More energy is used during peak energy months of (06) June - (09) September\n",
    "    - Can measure this by consumption per day (`consumption` / `billing_period`\n",
    "\n",
    "## Questions\n",
    "1. How variable is `billing period`? How much do the number of days in bill vary?\n",
    "2. How does each rate change over time? And which rates appear to be constant?\n",
    "3. Which rate has the most/least variance?\n",
    "4. Is the `service_charge` the same each month?\n",
    "5. Which months had the highest and lowest average charges per day for each charge type?\n",
    "6. Are the peak consumption amounts per day actually higher during the peak (06) June - (09) Septemeber months? \n",
    "7. What does the relationship between consumption and meter read amount look like?\n",
    "    - Comparison of both month by month\n",
    "    - Correlation?\n",
    "8. What is the correlation between total bill and total bill per day?"
   ]
  },
  {
   "cell_type": "code",
   "execution_count": 1,
   "id": "34d1e962",
   "metadata": {},
   "outputs": [],
   "source": [
    "import pandas as pd"
   ]
  },
  {
   "cell_type": "code",
   "execution_count": 4,
   "id": "2900c4f5",
   "metadata": {},
   "outputs": [
    {
     "data": {
      "text/html": [
       "<div>\n",
       "<style scoped>\n",
       "    .dataframe tbody tr th:only-of-type {\n",
       "        vertical-align: middle;\n",
       "    }\n",
       "\n",
       "    .dataframe tbody tr th {\n",
       "        vertical-align: top;\n",
       "    }\n",
       "\n",
       "    .dataframe thead th {\n",
       "        text-align: right;\n",
       "    }\n",
       "</style>\n",
       "<table border=\"1\" class=\"dataframe\">\n",
       "  <thead>\n",
       "    <tr style=\"text-align: right;\">\n",
       "      <th></th>\n",
       "      <th>bill_date</th>\n",
       "      <th>bills_start</th>\n",
       "      <th>bills_end</th>\n",
       "      <th>bill_period</th>\n",
       "      <th>meter</th>\n",
       "      <th>consumption</th>\n",
       "      <th>peak</th>\n",
       "      <th>consumption_rate</th>\n",
       "      <th>peak_rate</th>\n",
       "      <th>fuel_rate</th>\n",
       "      <th>regulatory_rate</th>\n",
       "      <th>service_charge</th>\n",
       "      <th>consumption_charge</th>\n",
       "      <th>peak_charge</th>\n",
       "      <th>fuel_charge</th>\n",
       "      <th>regulatory_charge</th>\n",
       "      <th>total_bill</th>\n",
       "    </tr>\n",
       "  </thead>\n",
       "  <tbody>\n",
       "    <tr>\n",
       "      <th>0</th>\n",
       "      <td>09/28/21</td>\n",
       "      <td>2021-08-25</td>\n",
       "      <td>2021-09-24</td>\n",
       "      <td>31</td>\n",
       "      <td>66863</td>\n",
       "      <td>974</td>\n",
       "      <td>374</td>\n",
       "      <td>0.06910</td>\n",
       "      <td>0.0198</td>\n",
       "      <td>0.01718</td>\n",
       "      <td>0.01236</td>\n",
       "      <td>8.75</td>\n",
       "      <td>67.30340</td>\n",
       "      <td>7.4052</td>\n",
       "      <td>16.73332</td>\n",
       "      <td>12.03864</td>\n",
       "      <td>112.23056</td>\n",
       "    </tr>\n",
       "    <tr>\n",
       "      <th>1</th>\n",
       "      <td>10/27/21</td>\n",
       "      <td>2021-09-25</td>\n",
       "      <td>2021-10-25</td>\n",
       "      <td>31</td>\n",
       "      <td>67645</td>\n",
       "      <td>782</td>\n",
       "      <td>0</td>\n",
       "      <td>0.06910</td>\n",
       "      <td>0.0000</td>\n",
       "      <td>0.02568</td>\n",
       "      <td>0.01236</td>\n",
       "      <td>8.75</td>\n",
       "      <td>54.03620</td>\n",
       "      <td>0.0000</td>\n",
       "      <td>20.08176</td>\n",
       "      <td>9.66552</td>\n",
       "      <td>92.53348</td>\n",
       "    </tr>\n",
       "    <tr>\n",
       "      <th>2</th>\n",
       "      <td>11/29/21</td>\n",
       "      <td>2021-10-26</td>\n",
       "      <td>2021-11-23</td>\n",
       "      <td>29</td>\n",
       "      <td>68433</td>\n",
       "      <td>788</td>\n",
       "      <td>0</td>\n",
       "      <td>0.06910</td>\n",
       "      <td>0.0000</td>\n",
       "      <td>0.02899</td>\n",
       "      <td>0.01236</td>\n",
       "      <td>8.75</td>\n",
       "      <td>54.45080</td>\n",
       "      <td>0.0000</td>\n",
       "      <td>22.84412</td>\n",
       "      <td>9.73968</td>\n",
       "      <td>95.78460</td>\n",
       "    </tr>\n",
       "    <tr>\n",
       "      <th>3</th>\n",
       "      <td>12/28/21</td>\n",
       "      <td>2021-11-24</td>\n",
       "      <td>2021-12-23</td>\n",
       "      <td>30</td>\n",
       "      <td>69389</td>\n",
       "      <td>956</td>\n",
       "      <td>0</td>\n",
       "      <td>0.06910</td>\n",
       "      <td>0.0000</td>\n",
       "      <td>0.02382</td>\n",
       "      <td>0.01236</td>\n",
       "      <td>8.75</td>\n",
       "      <td>66.05960</td>\n",
       "      <td>0.0000</td>\n",
       "      <td>22.77192</td>\n",
       "      <td>11.81616</td>\n",
       "      <td>109.39768</td>\n",
       "    </tr>\n",
       "    <tr>\n",
       "      <th>4</th>\n",
       "      <td>01/28/22</td>\n",
       "      <td>2021-12-24</td>\n",
       "      <td>2022-01-26</td>\n",
       "      <td>34</td>\n",
       "      <td>71014</td>\n",
       "      <td>1625</td>\n",
       "      <td>0</td>\n",
       "      <td>0.06910</td>\n",
       "      <td>0.0000</td>\n",
       "      <td>0.01882</td>\n",
       "      <td>0.01236</td>\n",
       "      <td>8.75</td>\n",
       "      <td>112.28750</td>\n",
       "      <td>0.0000</td>\n",
       "      <td>30.58250</td>\n",
       "      <td>20.08500</td>\n",
       "      <td>171.70500</td>\n",
       "    </tr>\n",
       "    <tr>\n",
       "      <th>5</th>\n",
       "      <td>02/25/22</td>\n",
       "      <td>2022-01-27</td>\n",
       "      <td>2022-02-23</td>\n",
       "      <td>28</td>\n",
       "      <td>72565</td>\n",
       "      <td>1551</td>\n",
       "      <td>0</td>\n",
       "      <td>0.06910</td>\n",
       "      <td>0.0000</td>\n",
       "      <td>0.02631</td>\n",
       "      <td>0.01278</td>\n",
       "      <td>8.75</td>\n",
       "      <td>107.17410</td>\n",
       "      <td>0.0000</td>\n",
       "      <td>40.80681</td>\n",
       "      <td>19.82178</td>\n",
       "      <td>176.55269</td>\n",
       "    </tr>\n",
       "    <tr>\n",
       "      <th>6</th>\n",
       "      <td>03/25/22</td>\n",
       "      <td>2022-02-24</td>\n",
       "      <td>2022-03-23</td>\n",
       "      <td>28</td>\n",
       "      <td>73703</td>\n",
       "      <td>1138</td>\n",
       "      <td>0</td>\n",
       "      <td>0.07188</td>\n",
       "      <td>0.0000</td>\n",
       "      <td>0.02889</td>\n",
       "      <td>0.01278</td>\n",
       "      <td>9.10</td>\n",
       "      <td>81.79944</td>\n",
       "      <td>0.0000</td>\n",
       "      <td>32.87682</td>\n",
       "      <td>14.54364</td>\n",
       "      <td>138.31990</td>\n",
       "    </tr>\n",
       "    <tr>\n",
       "      <th>7</th>\n",
       "      <td>04/27/22</td>\n",
       "      <td>2022-03-24</td>\n",
       "      <td>2022-04-25</td>\n",
       "      <td>33</td>\n",
       "      <td>74397</td>\n",
       "      <td>694</td>\n",
       "      <td>0</td>\n",
       "      <td>0.07188</td>\n",
       "      <td>0.0000</td>\n",
       "      <td>0.02745</td>\n",
       "      <td>0.01278</td>\n",
       "      <td>9.10</td>\n",
       "      <td>49.88472</td>\n",
       "      <td>0.0000</td>\n",
       "      <td>19.05030</td>\n",
       "      <td>8.86932</td>\n",
       "      <td>86.90434</td>\n",
       "    </tr>\n",
       "    <tr>\n",
       "      <th>8</th>\n",
       "      <td>05/26/22</td>\n",
       "      <td>2022-04-26</td>\n",
       "      <td>2022-05-24</td>\n",
       "      <td>29</td>\n",
       "      <td>75229</td>\n",
       "      <td>832</td>\n",
       "      <td>0</td>\n",
       "      <td>0.07188</td>\n",
       "      <td>0.0000</td>\n",
       "      <td>0.03062</td>\n",
       "      <td>0.01278</td>\n",
       "      <td>9.10</td>\n",
       "      <td>59.80416</td>\n",
       "      <td>0.0000</td>\n",
       "      <td>25.47584</td>\n",
       "      <td>10.63296</td>\n",
       "      <td>105.01296</td>\n",
       "    </tr>\n",
       "    <tr>\n",
       "      <th>9</th>\n",
       "      <td>06/27/22</td>\n",
       "      <td>2022-05-25</td>\n",
       "      <td>2022-06-23</td>\n",
       "      <td>30</td>\n",
       "      <td>76481</td>\n",
       "      <td>1252</td>\n",
       "      <td>652</td>\n",
       "      <td>0.07188</td>\n",
       "      <td>0.0206</td>\n",
       "      <td>0.04093</td>\n",
       "      <td>0.01278</td>\n",
       "      <td>9.10</td>\n",
       "      <td>89.99376</td>\n",
       "      <td>13.4312</td>\n",
       "      <td>51.24436</td>\n",
       "      <td>16.00056</td>\n",
       "      <td>179.76988</td>\n",
       "    </tr>\n",
       "    <tr>\n",
       "      <th>10</th>\n",
       "      <td>07/27/22</td>\n",
       "      <td>2022-06-24</td>\n",
       "      <td>2022-07-25</td>\n",
       "      <td>32</td>\n",
       "      <td>77789</td>\n",
       "      <td>1308</td>\n",
       "      <td>708</td>\n",
       "      <td>0.07188</td>\n",
       "      <td>0.0206</td>\n",
       "      <td>0.03902</td>\n",
       "      <td>0.01278</td>\n",
       "      <td>9.10</td>\n",
       "      <td>94.01904</td>\n",
       "      <td>14.5848</td>\n",
       "      <td>51.03816</td>\n",
       "      <td>16.71624</td>\n",
       "      <td>185.45824</td>\n",
       "    </tr>\n",
       "    <tr>\n",
       "      <th>11</th>\n",
       "      <td>08/25/22</td>\n",
       "      <td>2022-07-26</td>\n",
       "      <td>2022-08-23</td>\n",
       "      <td>29</td>\n",
       "      <td>78953</td>\n",
       "      <td>1164</td>\n",
       "      <td>564</td>\n",
       "      <td>0.07188</td>\n",
       "      <td>0.0206</td>\n",
       "      <td>0.03835</td>\n",
       "      <td>0.01278</td>\n",
       "      <td>9.10</td>\n",
       "      <td>83.66832</td>\n",
       "      <td>11.6184</td>\n",
       "      <td>44.63940</td>\n",
       "      <td>14.87592</td>\n",
       "      <td>163.90204</td>\n",
       "    </tr>\n",
       "    <tr>\n",
       "      <th>12</th>\n",
       "      <td>09/27/22</td>\n",
       "      <td>2022-08-24</td>\n",
       "      <td>2022-09-23</td>\n",
       "      <td>31</td>\n",
       "      <td>79963</td>\n",
       "      <td>1010</td>\n",
       "      <td>410</td>\n",
       "      <td>0.07188</td>\n",
       "      <td>0.0206</td>\n",
       "      <td>0.03654</td>\n",
       "      <td>0.01278</td>\n",
       "      <td>9.10</td>\n",
       "      <td>72.59880</td>\n",
       "      <td>8.4460</td>\n",
       "      <td>36.90540</td>\n",
       "      <td>12.90780</td>\n",
       "      <td>139.95800</td>\n",
       "    </tr>\n",
       "  </tbody>\n",
       "</table>\n",
       "</div>"
      ],
      "text/plain": [
       "   bill_date bills_start   bills_end  bill_period  meter  consumption  peak  \\\n",
       "0   09/28/21  2021-08-25  2021-09-24           31  66863          974   374   \n",
       "1   10/27/21  2021-09-25  2021-10-25           31  67645          782     0   \n",
       "2   11/29/21  2021-10-26  2021-11-23           29  68433          788     0   \n",
       "3   12/28/21  2021-11-24  2021-12-23           30  69389          956     0   \n",
       "4   01/28/22  2021-12-24  2022-01-26           34  71014         1625     0   \n",
       "5   02/25/22  2022-01-27  2022-02-23           28  72565         1551     0   \n",
       "6   03/25/22  2022-02-24  2022-03-23           28  73703         1138     0   \n",
       "7   04/27/22  2022-03-24  2022-04-25           33  74397          694     0   \n",
       "8   05/26/22  2022-04-26  2022-05-24           29  75229          832     0   \n",
       "9   06/27/22  2022-05-25  2022-06-23           30  76481         1252   652   \n",
       "10  07/27/22  2022-06-24  2022-07-25           32  77789         1308   708   \n",
       "11  08/25/22  2022-07-26  2022-08-23           29  78953         1164   564   \n",
       "12  09/27/22  2022-08-24  2022-09-23           31  79963         1010   410   \n",
       "\n",
       "    consumption_rate  peak_rate  fuel_rate  regulatory_rate  service_charge  \\\n",
       "0            0.06910     0.0198    0.01718          0.01236            8.75   \n",
       "1            0.06910     0.0000    0.02568          0.01236            8.75   \n",
       "2            0.06910     0.0000    0.02899          0.01236            8.75   \n",
       "3            0.06910     0.0000    0.02382          0.01236            8.75   \n",
       "4            0.06910     0.0000    0.01882          0.01236            8.75   \n",
       "5            0.06910     0.0000    0.02631          0.01278            8.75   \n",
       "6            0.07188     0.0000    0.02889          0.01278            9.10   \n",
       "7            0.07188     0.0000    0.02745          0.01278            9.10   \n",
       "8            0.07188     0.0000    0.03062          0.01278            9.10   \n",
       "9            0.07188     0.0206    0.04093          0.01278            9.10   \n",
       "10           0.07188     0.0206    0.03902          0.01278            9.10   \n",
       "11           0.07188     0.0206    0.03835          0.01278            9.10   \n",
       "12           0.07188     0.0206    0.03654          0.01278            9.10   \n",
       "\n",
       "    consumption_charge  peak_charge  fuel_charge  regulatory_charge  \\\n",
       "0             67.30340       7.4052     16.73332           12.03864   \n",
       "1             54.03620       0.0000     20.08176            9.66552   \n",
       "2             54.45080       0.0000     22.84412            9.73968   \n",
       "3             66.05960       0.0000     22.77192           11.81616   \n",
       "4            112.28750       0.0000     30.58250           20.08500   \n",
       "5            107.17410       0.0000     40.80681           19.82178   \n",
       "6             81.79944       0.0000     32.87682           14.54364   \n",
       "7             49.88472       0.0000     19.05030            8.86932   \n",
       "8             59.80416       0.0000     25.47584           10.63296   \n",
       "9             89.99376      13.4312     51.24436           16.00056   \n",
       "10            94.01904      14.5848     51.03816           16.71624   \n",
       "11            83.66832      11.6184     44.63940           14.87592   \n",
       "12            72.59880       8.4460     36.90540           12.90780   \n",
       "\n",
       "    total_bill  \n",
       "0    112.23056  \n",
       "1     92.53348  \n",
       "2     95.78460  \n",
       "3    109.39768  \n",
       "4    171.70500  \n",
       "5    176.55269  \n",
       "6    138.31990  \n",
       "7     86.90434  \n",
       "8    105.01296  \n",
       "9    179.76988  \n",
       "10   185.45824  \n",
       "11   163.90204  \n",
       "12   139.95800  "
      ]
     },
     "execution_count": 4,
     "metadata": {},
     "output_type": "execute_result"
    }
   ],
   "source": [
    "file = 'data.csv'\n",
    "\n",
    "df = pd.read_csv(file, index_col=0)\n",
    "df"
   ]
  },
  {
   "cell_type": "code",
   "execution_count": 6,
   "id": "b2d3a9c7",
   "metadata": {},
   "outputs": [
    {
     "data": {
      "text/plain": [
       "(13, 17)"
      ]
     },
     "execution_count": 6,
     "metadata": {},
     "output_type": "execute_result"
    }
   ],
   "source": [
    "df.shape"
   ]
  },
  {
   "cell_type": "code",
   "execution_count": 7,
   "id": "a4eb4ca3",
   "metadata": {},
   "outputs": [
    {
     "name": "stdout",
     "output_type": "stream",
     "text": [
      "<class 'pandas.core.frame.DataFrame'>\n",
      "Int64Index: 13 entries, 0 to 12\n",
      "Data columns (total 17 columns):\n",
      " #   Column              Non-Null Count  Dtype  \n",
      "---  ------              --------------  -----  \n",
      " 0   bill_date           13 non-null     object \n",
      " 1   bills_start         13 non-null     object \n",
      " 2   bills_end           13 non-null     object \n",
      " 3   bill_period         13 non-null     int64  \n",
      " 4   meter               13 non-null     int64  \n",
      " 5   consumption         13 non-null     int64  \n",
      " 6   peak                13 non-null     int64  \n",
      " 7   consumption_rate    13 non-null     float64\n",
      " 8   peak_rate           13 non-null     float64\n",
      " 9   fuel_rate           13 non-null     float64\n",
      " 10  regulatory_rate     13 non-null     float64\n",
      " 11  service_charge      13 non-null     float64\n",
      " 12  consumption_charge  13 non-null     float64\n",
      " 13  peak_charge         13 non-null     float64\n",
      " 14  fuel_charge         13 non-null     float64\n",
      " 15  regulatory_charge   13 non-null     float64\n",
      " 16  total_bill          13 non-null     float64\n",
      "dtypes: float64(10), int64(4), object(3)\n",
      "memory usage: 1.8+ KB\n"
     ]
    }
   ],
   "source": [
    "df.info()"
   ]
  },
  {
   "cell_type": "code",
   "execution_count": 11,
   "id": "74c9556b",
   "metadata": {},
   "outputs": [
    {
     "data": {
      "text/html": [
       "<div>\n",
       "<style scoped>\n",
       "    .dataframe tbody tr th:only-of-type {\n",
       "        vertical-align: middle;\n",
       "    }\n",
       "\n",
       "    .dataframe tbody tr th {\n",
       "        vertical-align: top;\n",
       "    }\n",
       "\n",
       "    .dataframe thead th {\n",
       "        text-align: right;\n",
       "    }\n",
       "</style>\n",
       "<table border=\"1\" class=\"dataframe\">\n",
       "  <thead>\n",
       "    <tr style=\"text-align: right;\">\n",
       "      <th></th>\n",
       "      <th>bill_date</th>\n",
       "      <th>bills_start</th>\n",
       "      <th>bills_end</th>\n",
       "      <th>bill_period</th>\n",
       "      <th>meter</th>\n",
       "      <th>consumption</th>\n",
       "      <th>peak</th>\n",
       "      <th>consumption_rate</th>\n",
       "      <th>peak_rate</th>\n",
       "      <th>fuel_rate</th>\n",
       "      <th>regulatory_rate</th>\n",
       "      <th>service_charge</th>\n",
       "      <th>consumption_charge</th>\n",
       "      <th>peak_charge</th>\n",
       "      <th>fuel_charge</th>\n",
       "      <th>regulatory_charge</th>\n",
       "      <th>total_bill</th>\n",
       "      <th>billing_per_day</th>\n",
       "      <th>consumption_per_day</th>\n",
       "    </tr>\n",
       "  </thead>\n",
       "  <tbody>\n",
       "    <tr>\n",
       "      <th>10</th>\n",
       "      <td>07/27/22</td>\n",
       "      <td>2022-06-24</td>\n",
       "      <td>2022-07-25</td>\n",
       "      <td>32</td>\n",
       "      <td>77789</td>\n",
       "      <td>1308</td>\n",
       "      <td>708</td>\n",
       "      <td>0.07188</td>\n",
       "      <td>0.0206</td>\n",
       "      <td>0.03902</td>\n",
       "      <td>0.01278</td>\n",
       "      <td>9.1</td>\n",
       "      <td>94.01904</td>\n",
       "      <td>14.5848</td>\n",
       "      <td>51.03816</td>\n",
       "      <td>16.71624</td>\n",
       "      <td>185.45824</td>\n",
       "      <td>5.79557</td>\n",
       "      <td>2.938095</td>\n",
       "    </tr>\n",
       "  </tbody>\n",
       "</table>\n",
       "</div>"
      ],
      "text/plain": [
       "   bill_date bills_start   bills_end  bill_period  meter  consumption  peak  \\\n",
       "10  07/27/22  2022-06-24  2022-07-25           32  77789         1308   708   \n",
       "\n",
       "    consumption_rate  peak_rate  fuel_rate  regulatory_rate  service_charge  \\\n",
       "10           0.07188     0.0206    0.03902          0.01278             9.1   \n",
       "\n",
       "    consumption_charge  peak_charge  fuel_charge  regulatory_charge  \\\n",
       "10            94.01904      14.5848     51.03816           16.71624   \n",
       "\n",
       "    total_bill  billing_per_day  consumption_per_day  \n",
       "10   185.45824          5.79557             2.938095  "
      ]
     },
     "execution_count": 11,
     "metadata": {},
     "output_type": "execute_result"
    }
   ],
   "source": [
    "df['billing_per_day'] = df.total_bill/df.bill_period\n",
    "df['consumption_per_day'] = df.consumption_charge/df.bill_period\n",
    "\n",
    "df.sample()"
   ]
  },
  {
   "cell_type": "code",
   "execution_count": 13,
   "id": "529ecc15",
   "metadata": {},
   "outputs": [
    {
     "data": {
      "text/html": [
       "<div>\n",
       "<style scoped>\n",
       "    .dataframe tbody tr th:only-of-type {\n",
       "        vertical-align: middle;\n",
       "    }\n",
       "\n",
       "    .dataframe tbody tr th {\n",
       "        vertical-align: top;\n",
       "    }\n",
       "\n",
       "    .dataframe thead th {\n",
       "        text-align: right;\n",
       "    }\n",
       "</style>\n",
       "<table border=\"1\" class=\"dataframe\">\n",
       "  <thead>\n",
       "    <tr style=\"text-align: right;\">\n",
       "      <th></th>\n",
       "      <th>bill_period</th>\n",
       "      <th>meter</th>\n",
       "      <th>consumption</th>\n",
       "      <th>peak</th>\n",
       "      <th>consumption_rate</th>\n",
       "      <th>peak_rate</th>\n",
       "      <th>fuel_rate</th>\n",
       "      <th>regulatory_rate</th>\n",
       "      <th>service_charge</th>\n",
       "      <th>consumption_charge</th>\n",
       "      <th>peak_charge</th>\n",
       "      <th>fuel_charge</th>\n",
       "      <th>regulatory_charge</th>\n",
       "      <th>total_bill</th>\n",
       "      <th>billing_per_day</th>\n",
       "      <th>consumption_per_day</th>\n",
       "    </tr>\n",
       "  </thead>\n",
       "  <tbody>\n",
       "    <tr>\n",
       "      <th>mean</th>\n",
       "      <td>30.384615</td>\n",
       "      <td>73263.384615</td>\n",
       "      <td>1082.615385</td>\n",
       "      <td>208.307692</td>\n",
       "      <td>0.070597</td>\n",
       "      <td>0.007862</td>\n",
       "      <td>0.029431</td>\n",
       "      <td>0.012618</td>\n",
       "      <td>8.938462</td>\n",
       "      <td>76.390757</td>\n",
       "      <td>4.268123</td>\n",
       "      <td>31.926978</td>\n",
       "      <td>13.670248</td>\n",
       "      <td>135.194567</td>\n",
       "      <td>4.466113</td>\n",
       "      <td>2.521860</td>\n",
       "    </tr>\n",
       "    <tr>\n",
       "      <th>std</th>\n",
       "      <td>1.850156</td>\n",
       "      <td>4376.594139</td>\n",
       "      <td>292.524226</td>\n",
       "      <td>286.987626</td>\n",
       "      <td>0.001442</td>\n",
       "      <td>0.010352</td>\n",
       "      <td>0.007517</td>\n",
       "      <td>0.000213</td>\n",
       "      <td>0.181606</td>\n",
       "      <td>20.364737</td>\n",
       "      <td>5.898116</td>\n",
       "      <td>12.080446</td>\n",
       "      <td>3.723323</td>\n",
       "      <td>36.767618</td>\n",
       "      <td>1.240304</td>\n",
       "      <td>0.678166</td>\n",
       "    </tr>\n",
       "    <tr>\n",
       "      <th>min</th>\n",
       "      <td>28.000000</td>\n",
       "      <td>66863.000000</td>\n",
       "      <td>694.000000</td>\n",
       "      <td>0.000000</td>\n",
       "      <td>0.069100</td>\n",
       "      <td>0.000000</td>\n",
       "      <td>0.017180</td>\n",
       "      <td>0.012360</td>\n",
       "      <td>8.750000</td>\n",
       "      <td>49.884720</td>\n",
       "      <td>0.000000</td>\n",
       "      <td>16.733320</td>\n",
       "      <td>8.869320</td>\n",
       "      <td>86.904340</td>\n",
       "      <td>2.633465</td>\n",
       "      <td>1.511658</td>\n",
       "    </tr>\n",
       "    <tr>\n",
       "      <th>25%</th>\n",
       "      <td>29.000000</td>\n",
       "      <td>69389.000000</td>\n",
       "      <td>832.000000</td>\n",
       "      <td>0.000000</td>\n",
       "      <td>0.069100</td>\n",
       "      <td>0.000000</td>\n",
       "      <td>0.025680</td>\n",
       "      <td>0.012360</td>\n",
       "      <td>8.750000</td>\n",
       "      <td>59.804160</td>\n",
       "      <td>0.000000</td>\n",
       "      <td>22.771920</td>\n",
       "      <td>10.632960</td>\n",
       "      <td>105.012960</td>\n",
       "      <td>3.620341</td>\n",
       "      <td>2.062212</td>\n",
       "    </tr>\n",
       "    <tr>\n",
       "      <th>50%</th>\n",
       "      <td>30.000000</td>\n",
       "      <td>73703.000000</td>\n",
       "      <td>1010.000000</td>\n",
       "      <td>0.000000</td>\n",
       "      <td>0.071880</td>\n",
       "      <td>0.000000</td>\n",
       "      <td>0.028890</td>\n",
       "      <td>0.012780</td>\n",
       "      <td>9.100000</td>\n",
       "      <td>72.598800</td>\n",
       "      <td>0.000000</td>\n",
       "      <td>30.582500</td>\n",
       "      <td>12.907800</td>\n",
       "      <td>138.319900</td>\n",
       "      <td>4.514774</td>\n",
       "      <td>2.341897</td>\n",
       "    </tr>\n",
       "    <tr>\n",
       "      <th>75%</th>\n",
       "      <td>31.000000</td>\n",
       "      <td>76481.000000</td>\n",
       "      <td>1252.000000</td>\n",
       "      <td>410.000000</td>\n",
       "      <td>0.071880</td>\n",
       "      <td>0.020600</td>\n",
       "      <td>0.036540</td>\n",
       "      <td>0.012780</td>\n",
       "      <td>9.100000</td>\n",
       "      <td>89.993760</td>\n",
       "      <td>8.446000</td>\n",
       "      <td>40.806810</td>\n",
       "      <td>16.000560</td>\n",
       "      <td>171.705000</td>\n",
       "      <td>5.651794</td>\n",
       "      <td>2.938095</td>\n",
       "    </tr>\n",
       "    <tr>\n",
       "      <th>max</th>\n",
       "      <td>34.000000</td>\n",
       "      <td>79963.000000</td>\n",
       "      <td>1625.000000</td>\n",
       "      <td>708.000000</td>\n",
       "      <td>0.071880</td>\n",
       "      <td>0.020600</td>\n",
       "      <td>0.040930</td>\n",
       "      <td>0.012780</td>\n",
       "      <td>9.100000</td>\n",
       "      <td>112.287500</td>\n",
       "      <td>14.584800</td>\n",
       "      <td>51.244360</td>\n",
       "      <td>20.085000</td>\n",
       "      <td>185.458240</td>\n",
       "      <td>6.305453</td>\n",
       "      <td>3.827646</td>\n",
       "    </tr>\n",
       "  </tbody>\n",
       "</table>\n",
       "</div>"
      ],
      "text/plain": [
       "      bill_period         meter  consumption        peak  consumption_rate  \\\n",
       "mean    30.384615  73263.384615  1082.615385  208.307692          0.070597   \n",
       "std      1.850156   4376.594139   292.524226  286.987626          0.001442   \n",
       "min     28.000000  66863.000000   694.000000    0.000000          0.069100   \n",
       "25%     29.000000  69389.000000   832.000000    0.000000          0.069100   \n",
       "50%     30.000000  73703.000000  1010.000000    0.000000          0.071880   \n",
       "75%     31.000000  76481.000000  1252.000000  410.000000          0.071880   \n",
       "max     34.000000  79963.000000  1625.000000  708.000000          0.071880   \n",
       "\n",
       "      peak_rate  fuel_rate  regulatory_rate  service_charge  \\\n",
       "mean   0.007862   0.029431         0.012618        8.938462   \n",
       "std    0.010352   0.007517         0.000213        0.181606   \n",
       "min    0.000000   0.017180         0.012360        8.750000   \n",
       "25%    0.000000   0.025680         0.012360        8.750000   \n",
       "50%    0.000000   0.028890         0.012780        9.100000   \n",
       "75%    0.020600   0.036540         0.012780        9.100000   \n",
       "max    0.020600   0.040930         0.012780        9.100000   \n",
       "\n",
       "      consumption_charge  peak_charge  fuel_charge  regulatory_charge  \\\n",
       "mean           76.390757     4.268123    31.926978          13.670248   \n",
       "std            20.364737     5.898116    12.080446           3.723323   \n",
       "min            49.884720     0.000000    16.733320           8.869320   \n",
       "25%            59.804160     0.000000    22.771920          10.632960   \n",
       "50%            72.598800     0.000000    30.582500          12.907800   \n",
       "75%            89.993760     8.446000    40.806810          16.000560   \n",
       "max           112.287500    14.584800    51.244360          20.085000   \n",
       "\n",
       "      total_bill  billing_per_day  consumption_per_day  \n",
       "mean  135.194567         4.466113             2.521860  \n",
       "std    36.767618         1.240304             0.678166  \n",
       "min    86.904340         2.633465             1.511658  \n",
       "25%   105.012960         3.620341             2.062212  \n",
       "50%   138.319900         4.514774             2.341897  \n",
       "75%   171.705000         5.651794             2.938095  \n",
       "max   185.458240         6.305453             3.827646  "
      ]
     },
     "execution_count": 13,
     "metadata": {},
     "output_type": "execute_result"
    }
   ],
   "source": [
    "df.describe().iloc[1:]"
   ]
  },
  {
   "cell_type": "code",
   "execution_count": 14,
   "id": "e4a683fc",
   "metadata": {},
   "outputs": [
    {
     "data": {
      "text/plain": [
       "bill_date              0\n",
       "bills_start            0\n",
       "bills_end              0\n",
       "bill_period            0\n",
       "meter                  0\n",
       "consumption            0\n",
       "peak                   0\n",
       "consumption_rate       0\n",
       "peak_rate              0\n",
       "fuel_rate              0\n",
       "regulatory_rate        0\n",
       "service_charge         0\n",
       "consumption_charge     0\n",
       "peak_charge            0\n",
       "fuel_charge            0\n",
       "regulatory_charge      0\n",
       "total_bill             0\n",
       "billing_per_day        0\n",
       "consumption_per_day    0\n",
       "dtype: int64"
      ]
     },
     "execution_count": 14,
     "metadata": {},
     "output_type": "execute_result"
    }
   ],
   "source": [
    "df.isna().sum()"
   ]
  },
  {
   "cell_type": "code",
   "execution_count": 15,
   "id": "6b04d77a",
   "metadata": {},
   "outputs": [],
   "source": [
    "import matplotlib.pyplot as plt\n",
    "import seaborn as sns"
   ]
  },
  {
   "cell_type": "code",
   "execution_count": 22,
   "id": "26aadfd2",
   "metadata": {},
   "outputs": [
    {
     "data": {
      "text/plain": [
       "dtype('O')"
      ]
     },
     "execution_count": 22,
     "metadata": {},
     "output_type": "execute_result"
    }
   ],
   "source": [
    "df.bill_date.dtype"
   ]
  },
  {
   "cell_type": "code",
   "execution_count": 23,
   "id": "b09f4af0",
   "metadata": {
    "scrolled": false
   },
   "outputs": [
    {
     "data": {
      "image/png": "[encoded data removed]",
      "text/plain": [
       "<Figure size 432x288 with 1 Axes>"
      ]
     },
     "metadata": {
      "needs_background": "light"
     },
     "output_type": "display_data"
    },
    {
     "data": {
      "image/png": "[encoded data removed]",
      "text/plain": [
       "<Figure size 432x288 with 1 Axes>"
      ]
     },
     "metadata": {
      "needs_background": "light"
     },
     "output_type": "display_data"
    },
    {
     "data": {
      "image/png": "[encoded data removed]",
      "text/plain": [
       "<Figure size 432x288 with 1 Axes>"
      ]
     },
     "metadata": {
      "needs_background": "light"
     },
     "output_type": "display_data"
    },
    {
     "data": {
      "image/png": "[encoded data removed]",
      "text/plain": [
       "<Figure size 432x288 with 1 Axes>"
      ]
     },
     "metadata": {
      "needs_background": "light"
     },
     "output_type": "display_data"
    },
    {
     "data": {
      "image/png": "[encoded data removed]",
      "text/plain": [
       "<Figure size 432x288 with 1 Axes>"
      ]
     },
     "metadata": {
      "needs_background": "light"
     },
     "output_type": "display_data"
    },
    {
     "data": {
      "image/png": "[encoded data removed]",
      "text/plain": [
       "<Figure size 432x288 with 1 Axes>"
      ]
     },
     "metadata": {
      "needs_background": "light"
     },
     "output_type": "display_data"
    },
    {
     "data": {
      "image/png": "[encoded data removed]",
      "text/plain": [
       "<Figure size 432x288 with 1 Axes>"
      ]
     },
     "metadata": {
      "needs_background": "light"
     },
     "output_type": "display_data"
    },
    {
     "data": {
      "image/png": "[encoded data removed]",
      "text/plain": [
       "<Figure size 432x288 with 1 Axes>"
      ]
     },
     "metadata": {
      "needs_background": "light"
     },
     "output_type": "display_data"
    },
    {
     "data": {
      "image/png": "[encoded data removed]",
      "text/plain": [
       "<Figure size 432x288 with 1 Axes>"
      ]
     },
     "metadata": {
      "needs_background": "light"
     },
     "output_type": "display_data"
    },
    {
     "data": {
      "image/png": "[encoded data removed]",
      "text/plain": [
       "<Figure size 432x288 with 1 Axes>"
      ]
     },
     "metadata": {
      "needs_background": "light"
     },
     "output_type": "display_data"
    },
    {
     "data": {
      "image/png": "[encoded data removed]",
      "text/plain": [
       "<Figure size 432x288 with 1 Axes>"
      ]
     },
     "metadata": {
      "needs_background": "light"
     },
     "output_type": "display_data"
    },
    {
     "data": {
      "image/png": "[encoded data removed]",
      "text/plain": [
       "<Figure size 432x288 with 1 Axes>"
      ]
     },
     "metadata": {
      "needs_background": "light"
     },
     "output_type": "display_data"
    },
    {
     "data": {
      "image/png": "[encoded data removed]",
      "text/plain": [
       "<Figure size 432x288 with 1 Axes>"
      ]
     },
     "metadata": {
      "needs_background": "light"
     },
     "output_type": "display_data"
    },
    {
     "data": {
      "image/png": "[encoded data removed]",
      "text/plain": [
       "<Figure size 432x288 with 1 Axes>"
      ]
     },
     "metadata": {
      "needs_background": "light"
     },
     "output_type": "display_data"
    },
    {
     "data": {
      "image/png": "[encoded data removed]",
      "text/plain": [
       "<Figure size 432x288 with 1 Axes>"
      ]
     },
     "metadata": {
      "needs_background": "light"
     },
     "output_type": "display_data"
    },
    {
     "data": {
      "image/png": "[encoded data removed]",
      "text/plain": [
       "<Figure size 432x288 with 1 Axes>"
      ]
     },
     "metadata": {
      "needs_background": "light"
     },
     "output_type": "display_data"
    }
   ],
   "source": [
    "for field in df:\n",
    "    if df[field].dtype != 'O':\n",
    "        sns.histplot(df[field])\n",
    "        plt.title(f'{field} historgram')\n",
    "        plt.show()"
   ]
  },
  {
   "cell_type": "code",
   "execution_count": null,
   "id": "89d8a63a",
   "metadata": {},
   "outputs": [],
   "source": []
  },
  {
   "cell_type": "code",
   "execution_count": 35,
   "id": "266283c1",
   "metadata": {},
   "outputs": [
    {
     "data": {
      "image/png": "[encoded data removed]",
      "text/plain": [
       "<Figure size 1008x576 with 2 Axes>"
      ]
     },
     "metadata": {
      "needs_background": "light"
     },
     "output_type": "display_data"
    }
   ],
   "source": [
    "import numpy as np\n",
    "\n",
    "plt.figure(figsize = (14, 8))\n",
    "\n",
    "mask = np.triu(np.ones_like(df.corr()))\n",
    "\n",
    "sns.heatmap(df.corr(), annot = True, mask = mask)\n",
    "\n",
    "plt.title('Correlation Check')\n",
    "plt.show()"
   ]
  },
  {
   "cell_type": "markdown",
   "id": "7353f475",
   "metadata": {},
   "source": [
    "## Q1: How variable is billing period? How much do the number of days in bill vary?"
   ]
  },
  {
   "cell_type": "code",
   "execution_count": 72,
   "id": "9c415fa2",
   "metadata": {},
   "outputs": [
    {
     "name": "stderr",
     "output_type": "stream",
     "text": [
      "/usr/local/anaconda3/lib/python3.8/site-packages/seaborn/_decorators.py:36: FutureWarning: Pass the following variable as a keyword arg: x. From version 0.12, the only valid positional argument will be `data`, and passing other arguments without an explicit keyword will result in an error or misinterpretation.\n",
      "  warnings.warn(\n"
     ]
    },
    {
     "data": {
      "image/png": "[encoded data removed]",
      "text/plain": [
       "<Figure size 576x288 with 1 Axes>"
      ]
     },
     "metadata": {
      "needs_background": "light"
     },
     "output_type": "display_data"
    }
   ],
   "source": [
    "plt.figure(figsize = (8, 4))\n",
    "\n",
    "sns.countplot(df.bill_period, palette = ['#193261', '#EE4F17', '#193261', '#EE4F17'\n",
    "                                         , '#D3D3D3', '#D3D3D3', '#D3D3D3'])\n",
    "plt.title('Number of Days in Bill Can Vary, Between 28 and 34 days\\nMost Bills have 29 or 31 days')\n",
    "plt.show()"
   ]
  },
  {
   "cell_type": "markdown",
   "id": "c4a33741",
   "metadata": {},
   "source": [
    "## Q2: How does each rate change over time? And which rates appear to be constant?"
   ]
  },
  {
   "cell_type": "code",
   "execution_count": 73,
   "id": "70d35a52",
   "metadata": {},
   "outputs": [
    {
     "data": {
      "text/html": [
       "<div>\n",
       "<style scoped>\n",
       "    .dataframe tbody tr th:only-of-type {\n",
       "        vertical-align: middle;\n",
       "    }\n",
       "\n",
       "    .dataframe tbody tr th {\n",
       "        vertical-align: top;\n",
       "    }\n",
       "\n",
       "    .dataframe thead th {\n",
       "        text-align: right;\n",
       "    }\n",
       "</style>\n",
       "<table border=\"1\" class=\"dataframe\">\n",
       "  <thead>\n",
       "    <tr style=\"text-align: right;\">\n",
       "      <th></th>\n",
       "      <th>bill_date</th>\n",
       "      <th>bills_start</th>\n",
       "      <th>bills_end</th>\n",
       "      <th>bill_period</th>\n",
       "      <th>meter</th>\n",
       "      <th>consumption</th>\n",
       "      <th>peak</th>\n",
       "      <th>consumption_rate</th>\n",
       "      <th>peak_rate</th>\n",
       "      <th>fuel_rate</th>\n",
       "      <th>regulatory_rate</th>\n",
       "      <th>service_charge</th>\n",
       "      <th>consumption_charge</th>\n",
       "      <th>peak_charge</th>\n",
       "      <th>fuel_charge</th>\n",
       "      <th>regulatory_charge</th>\n",
       "      <th>total_bill</th>\n",
       "      <th>billing_per_day</th>\n",
       "      <th>consumption_per_day</th>\n",
       "    </tr>\n",
       "  </thead>\n",
       "  <tbody>\n",
       "    <tr>\n",
       "      <th>12</th>\n",
       "      <td>09/27/22</td>\n",
       "      <td>2022-08-24</td>\n",
       "      <td>2022-09-23</td>\n",
       "      <td>31</td>\n",
       "      <td>79963</td>\n",
       "      <td>1010</td>\n",
       "      <td>410</td>\n",
       "      <td>0.07188</td>\n",
       "      <td>0.0206</td>\n",
       "      <td>0.03654</td>\n",
       "      <td>0.01278</td>\n",
       "      <td>9.1</td>\n",
       "      <td>72.5988</td>\n",
       "      <td>8.446</td>\n",
       "      <td>36.9054</td>\n",
       "      <td>12.9078</td>\n",
       "      <td>139.958</td>\n",
       "      <td>4.514774</td>\n",
       "      <td>2.341897</td>\n",
       "    </tr>\n",
       "  </tbody>\n",
       "</table>\n",
       "</div>"
      ],
      "text/plain": [
       "   bill_date bills_start   bills_end  bill_period  meter  consumption  peak  \\\n",
       "12  09/27/22  2022-08-24  2022-09-23           31  79963         1010   410   \n",
       "\n",
       "    consumption_rate  peak_rate  fuel_rate  regulatory_rate  service_charge  \\\n",
       "12           0.07188     0.0206    0.03654          0.01278             9.1   \n",
       "\n",
       "    consumption_charge  peak_charge  fuel_charge  regulatory_charge  \\\n",
       "12             72.5988        8.446      36.9054            12.9078   \n",
       "\n",
       "    total_bill  billing_per_day  consumption_per_day  \n",
       "12     139.958         4.514774             2.341897  "
      ]
     },
     "execution_count": 73,
     "metadata": {},
     "output_type": "execute_result"
    }
   ],
   "source": [
    "df.sample()"
   ]
  },
  {
   "cell_type": "code",
   "execution_count": 83,
   "id": "f5c281d0",
   "metadata": {},
   "outputs": [
    {
     "data": {
      "text/html": [
       "<div>\n",
       "<style scoped>\n",
       "    .dataframe tbody tr th:only-of-type {\n",
       "        vertical-align: middle;\n",
       "    }\n",
       "\n",
       "    .dataframe tbody tr th {\n",
       "        vertical-align: top;\n",
       "    }\n",
       "\n",
       "    .dataframe thead th {\n",
       "        text-align: right;\n",
       "    }\n",
       "</style>\n",
       "<table border=\"1\" class=\"dataframe\">\n",
       "  <thead>\n",
       "    <tr style=\"text-align: right;\">\n",
       "      <th></th>\n",
       "      <th>consumption_rate</th>\n",
       "      <th>peak_rate</th>\n",
       "      <th>fuel_rate</th>\n",
       "      <th>regulatory_rate</th>\n",
       "    </tr>\n",
       "    <tr>\n",
       "      <th>bill_date</th>\n",
       "      <th></th>\n",
       "      <th></th>\n",
       "      <th></th>\n",
       "      <th></th>\n",
       "    </tr>\n",
       "  </thead>\n",
       "  <tbody>\n",
       "    <tr>\n",
       "      <th>09/28/21</th>\n",
       "      <td>0.06910</td>\n",
       "      <td>0.0198</td>\n",
       "      <td>0.01718</td>\n",
       "      <td>0.01236</td>\n",
       "    </tr>\n",
       "    <tr>\n",
       "      <th>10/27/21</th>\n",
       "      <td>0.06910</td>\n",
       "      <td>0.0000</td>\n",
       "      <td>0.02568</td>\n",
       "      <td>0.01236</td>\n",
       "    </tr>\n",
       "    <tr>\n",
       "      <th>11/29/21</th>\n",
       "      <td>0.06910</td>\n",
       "      <td>0.0000</td>\n",
       "      <td>0.02899</td>\n",
       "      <td>0.01236</td>\n",
       "    </tr>\n",
       "    <tr>\n",
       "      <th>12/28/21</th>\n",
       "      <td>0.06910</td>\n",
       "      <td>0.0000</td>\n",
       "      <td>0.02382</td>\n",
       "      <td>0.01236</td>\n",
       "    </tr>\n",
       "    <tr>\n",
       "      <th>01/28/22</th>\n",
       "      <td>0.06910</td>\n",
       "      <td>0.0000</td>\n",
       "      <td>0.01882</td>\n",
       "      <td>0.01236</td>\n",
       "    </tr>\n",
       "    <tr>\n",
       "      <th>02/25/22</th>\n",
       "      <td>0.06910</td>\n",
       "      <td>0.0000</td>\n",
       "      <td>0.02631</td>\n",
       "      <td>0.01278</td>\n",
       "    </tr>\n",
       "    <tr>\n",
       "      <th>03/25/22</th>\n",
       "      <td>0.07188</td>\n",
       "      <td>0.0000</td>\n",
       "      <td>0.02889</td>\n",
       "      <td>0.01278</td>\n",
       "    </tr>\n",
       "    <tr>\n",
       "      <th>04/27/22</th>\n",
       "      <td>0.07188</td>\n",
       "      <td>0.0000</td>\n",
       "      <td>0.02745</td>\n",
       "      <td>0.01278</td>\n",
       "    </tr>\n",
       "    <tr>\n",
       "      <th>05/26/22</th>\n",
       "      <td>0.07188</td>\n",
       "      <td>0.0000</td>\n",
       "      <td>0.03062</td>\n",
       "      <td>0.01278</td>\n",
       "    </tr>\n",
       "    <tr>\n",
       "      <th>06/27/22</th>\n",
       "      <td>0.07188</td>\n",
       "      <td>0.0206</td>\n",
       "      <td>0.04093</td>\n",
       "      <td>0.01278</td>\n",
       "    </tr>\n",
       "    <tr>\n",
       "      <th>07/27/22</th>\n",
       "      <td>0.07188</td>\n",
       "      <td>0.0206</td>\n",
       "      <td>0.03902</td>\n",
       "      <td>0.01278</td>\n",
       "    </tr>\n",
       "    <tr>\n",
       "      <th>08/25/22</th>\n",
       "      <td>0.07188</td>\n",
       "      <td>0.0206</td>\n",
       "      <td>0.03835</td>\n",
       "      <td>0.01278</td>\n",
       "    </tr>\n",
       "    <tr>\n",
       "      <th>09/27/22</th>\n",
       "      <td>0.07188</td>\n",
       "      <td>0.0206</td>\n",
       "      <td>0.03654</td>\n",
       "      <td>0.01278</td>\n",
       "    </tr>\n",
       "  </tbody>\n",
       "</table>\n",
       "</div>"
      ],
      "text/plain": [
       "           consumption_rate  peak_rate  fuel_rate  regulatory_rate\n",
       "bill_date                                                         \n",
       "09/28/21            0.06910     0.0198    0.01718          0.01236\n",
       "10/27/21            0.06910     0.0000    0.02568          0.01236\n",
       "11/29/21            0.06910     0.0000    0.02899          0.01236\n",
       "12/28/21            0.06910     0.0000    0.02382          0.01236\n",
       "01/28/22            0.06910     0.0000    0.01882          0.01236\n",
       "02/25/22            0.06910     0.0000    0.02631          0.01278\n",
       "03/25/22            0.07188     0.0000    0.02889          0.01278\n",
       "04/27/22            0.07188     0.0000    0.02745          0.01278\n",
       "05/26/22            0.07188     0.0000    0.03062          0.01278\n",
       "06/27/22            0.07188     0.0206    0.04093          0.01278\n",
       "07/27/22            0.07188     0.0206    0.03902          0.01278\n",
       "08/25/22            0.07188     0.0206    0.03835          0.01278\n",
       "09/27/22            0.07188     0.0206    0.03654          0.01278"
      ]
     },
     "execution_count": 83,
     "metadata": {},
     "output_type": "execute_result"
    }
   ],
   "source": [
    "rates = ['bill_date', 'consumption_rate', 'peak_rate', 'fuel_rate', 'regulatory_rate']\n",
    "\n",
    "df[rates].set_index('bill_date')"
   ]
  },
  {
   "cell_type": "code",
   "execution_count": 92,
   "id": "49e689b1",
   "metadata": {},
   "outputs": [
    {
     "data": {
      "image/png": "[encoded data removed]",
      "text/plain": [
       "<Figure size 720x432 with 1 Axes>"
      ]
     },
     "metadata": {
      "needs_background": "light"
     },
     "output_type": "display_data"
    }
   ],
   "source": [
    "plt.figure(figsize = (10, 6))\n",
    "\n",
    "# df[rates].plot()\n",
    "sns.lineplot(data = df[rates].set_index('bill_date'))\n",
    "plt.title('Fuel Rate has the Most Variation, with Consumption Rate Showing Slight Increase  in March\\nRegulatory Rate and Fuel Rate Mostly Constant\\n')\n",
    "plt.xticks(rotation=30)\n",
    "plt.show()"
   ]
  },
  {
   "cell_type": "code",
   "execution_count": 99,
   "id": "a6199ceb",
   "metadata": {
    "scrolled": false
   },
   "outputs": [
    {
     "name": "stdout",
     "output_type": "stream",
     "text": [
      "Max: 0.07188\n",
      "Min: 0.0691\n",
      "Diff between Max and Min: 0.0027800000000000047\n",
      "\n",
      "consumption_rate\n",
      "0.07188    7\n",
      "0.06910    6\n",
      "Name: consumption_rate, dtype: int64\n"
     ]
    },
    {
     "name": "stderr",
     "output_type": "stream",
     "text": [
      "/usr/local/anaconda3/lib/python3.8/site-packages/seaborn/_decorators.py:36: FutureWarning: Pass the following variable as a keyword arg: x. From version 0.12, the only valid positional argument will be `data`, and passing other arguments without an explicit keyword will result in an error or misinterpretation.\n",
      "  warnings.warn(\n"
     ]
    },
    {
     "data": {
      "image/png": "[encoded data removed]",
      "text/plain": [
       "<Figure size 432x288 with 1 Axes>"
      ]
     },
     "metadata": {
      "needs_background": "light"
     },
     "output_type": "display_data"
    },
    {
     "name": "stdout",
     "output_type": "stream",
     "text": [
      "\n",
      "Max: 0.0206\n",
      "Min: 0.0\n",
      "Diff between Max and Min: 0.0206\n",
      "\n",
      "peak_rate\n",
      "0.0000    8\n",
      "0.0206    4\n",
      "0.0198    1\n",
      "Name: peak_rate, dtype: int64\n"
     ]
    },
    {
     "name": "stderr",
     "output_type": "stream",
     "text": [
      "/usr/local/anaconda3/lib/python3.8/site-packages/seaborn/_decorators.py:36: FutureWarning: Pass the following variable as a keyword arg: x. From version 0.12, the only valid positional argument will be `data`, and passing other arguments without an explicit keyword will result in an error or misinterpretation.\n",
      "  warnings.warn(\n"
     ]
    },
    {
     "data": {
      "image/png": "[encoded data removed]",
      "text/plain": [
       "<Figure size 432x288 with 1 Axes>"
      ]
     },
     "metadata": {
      "needs_background": "light"
     },
     "output_type": "display_data"
    },
    {
     "name": "stdout",
     "output_type": "stream",
     "text": [
      "\n",
      "Max: 0.04093\n",
      "Min: 0.01718\n",
      "Diff between Max and Min: 0.02375\n",
      "\n",
      "fuel_rate\n",
      "0.02889    1\n",
      "0.04093    1\n",
      "0.01882    1\n",
      "0.02899    1\n",
      "0.03902    1\n",
      "0.01718    1\n",
      "0.02382    1\n",
      "0.02745    1\n",
      "0.03062    1\n",
      "0.02568    1\n",
      "0.02631    1\n",
      "0.03835    1\n",
      "0.03654    1\n",
      "Name: fuel_rate, dtype: int64\n"
     ]
    },
    {
     "name": "stderr",
     "output_type": "stream",
     "text": [
      "/usr/local/anaconda3/lib/python3.8/site-packages/seaborn/_decorators.py:36: FutureWarning: Pass the following variable as a keyword arg: x. From version 0.12, the only valid positional argument will be `data`, and passing other arguments without an explicit keyword will result in an error or misinterpretation.\n",
      "  warnings.warn(\n"
     ]
    },
    {
     "data": {
      "image/png": "[encoded data removed]",
      "text/plain": [
       "<Figure size 432x288 with 1 Axes>"
      ]
     },
     "metadata": {
      "needs_background": "light"
     },
     "output_type": "display_data"
    },
    {
     "name": "stdout",
     "output_type": "stream",
     "text": [
      "\n",
      "Max: 0.01278\n",
      "Min: 0.01236\n",
      "Diff between Max and Min: 0.00042000000000000023\n",
      "\n",
      "regulatory_rate\n",
      "0.01278    8\n",
      "0.01236    5\n",
      "Name: regulatory_rate, dtype: int64\n"
     ]
    },
    {
     "name": "stderr",
     "output_type": "stream",
     "text": [
      "/usr/local/anaconda3/lib/python3.8/site-packages/seaborn/_decorators.py:36: FutureWarning: Pass the following variable as a keyword arg: x. From version 0.12, the only valid positional argument will be `data`, and passing other arguments without an explicit keyword will result in an error or misinterpretation.\n",
      "  warnings.warn(\n"
     ]
    },
    {
     "data": {
      "image/png": "[encoded data removed]",
      "text/plain": [
       "<Figure size 432x288 with 1 Axes>"
      ]
     },
     "metadata": {
      "needs_background": "light"
     },
     "output_type": "display_data"
    },
    {
     "name": "stdout",
     "output_type": "stream",
     "text": [
      "\n"
     ]
    }
   ],
   "source": [
    "for rate in df[rates].iloc[:, 1:]:\n",
    "    print(f'Max: {df[rates].iloc[:, 1:][rate].max()}')\n",
    "    print(f'Min: {df[rates].iloc[:, 1:][rate].min()}')\n",
    "    print(f'Diff between Max and Min: {df[rates].iloc[:, 1:][rate].max() - df[rates].iloc[:, 1:][rate].min()}')\n",
    "    print()\n",
    "    print(f'{rate}')\n",
    "    print(df[rates].iloc[:, 1:][rate].value_counts())\n",
    "    sns.countplot(df[rates].iloc[:, 1:][rate])\n",
    "    plt.title(f'Countplot of {rate}')\n",
    "    plt.show()\n",
    "    print()"
   ]
  },
  {
   "cell_type": "markdown",
   "id": "9c6cd660",
   "metadata": {},
   "source": [
    "## Q3: Is the service charge the same each month?"
   ]
  },
  {
   "cell_type": "code",
   "execution_count": 101,
   "id": "dff789d2",
   "metadata": {},
   "outputs": [
    {
     "data": {
      "text/plain": [
       "9.10    7\n",
       "8.75    6\n",
       "Name: service_charge, dtype: int64"
      ]
     },
     "execution_count": 101,
     "metadata": {},
     "output_type": "execute_result"
    }
   ],
   "source": [
    "df.service_charge.value_counts()"
   ]
  },
  {
   "cell_type": "code",
   "execution_count": 109,
   "id": "bd78d72b",
   "metadata": {},
   "outputs": [
    {
     "data": {
      "text/plain": [
       "<AxesSubplot:ylabel='bill_date'>"
      ]
     },
     "execution_count": 109,
     "metadata": {},
     "output_type": "execute_result"
    },
    {
     "data": {
      "image/png": "[encoded data removed]",
      "text/plain": [
       "<Figure size 432x288 with 1 Axes>"
      ]
     },
     "metadata": {
      "needs_background": "light"
     },
     "output_type": "display_data"
    }
   ],
   "source": [
    "df.set_index('bill_date').service_charge.plot.barh()"
   ]
  },
  {
   "cell_type": "markdown",
   "id": "a451ecac",
   "metadata": {},
   "source": [
    "## Q5: Which months had the highest and lowest average charges per day for each charge type?"
   ]
  },
  {
   "cell_type": "code",
   "execution_count": 110,
   "id": "9188c249",
   "metadata": {},
   "outputs": [
    {
     "data": {
      "text/html": [
       "<div>\n",
       "<style scoped>\n",
       "    .dataframe tbody tr th:only-of-type {\n",
       "        vertical-align: middle;\n",
       "    }\n",
       "\n",
       "    .dataframe tbody tr th {\n",
       "        vertical-align: top;\n",
       "    }\n",
       "\n",
       "    .dataframe thead th {\n",
       "        text-align: right;\n",
       "    }\n",
       "</style>\n",
       "<table border=\"1\" class=\"dataframe\">\n",
       "  <thead>\n",
       "    <tr style=\"text-align: right;\">\n",
       "      <th></th>\n",
       "      <th>bill_date</th>\n",
       "      <th>bills_start</th>\n",
       "      <th>bills_end</th>\n",
       "      <th>bill_period</th>\n",
       "      <th>meter</th>\n",
       "      <th>consumption</th>\n",
       "      <th>peak</th>\n",
       "      <th>consumption_rate</th>\n",
       "      <th>peak_rate</th>\n",
       "      <th>fuel_rate</th>\n",
       "      <th>regulatory_rate</th>\n",
       "      <th>service_charge</th>\n",
       "      <th>consumption_charge</th>\n",
       "      <th>peak_charge</th>\n",
       "      <th>fuel_charge</th>\n",
       "      <th>regulatory_charge</th>\n",
       "      <th>total_bill</th>\n",
       "      <th>billing_per_day</th>\n",
       "      <th>consumption_per_day</th>\n",
       "    </tr>\n",
       "  </thead>\n",
       "  <tbody>\n",
       "    <tr>\n",
       "      <th>8</th>\n",
       "      <td>05/26/22</td>\n",
       "      <td>2022-04-26</td>\n",
       "      <td>2022-05-24</td>\n",
       "      <td>29</td>\n",
       "      <td>75229</td>\n",
       "      <td>832</td>\n",
       "      <td>0</td>\n",
       "      <td>0.07188</td>\n",
       "      <td>0.0</td>\n",
       "      <td>0.03062</td>\n",
       "      <td>0.01278</td>\n",
       "      <td>9.1</td>\n",
       "      <td>59.80416</td>\n",
       "      <td>0.0</td>\n",
       "      <td>25.47584</td>\n",
       "      <td>10.63296</td>\n",
       "      <td>105.01296</td>\n",
       "      <td>3.621137</td>\n",
       "      <td>2.062212</td>\n",
       "    </tr>\n",
       "  </tbody>\n",
       "</table>\n",
       "</div>"
      ],
      "text/plain": [
       "  bill_date bills_start   bills_end  bill_period  meter  consumption  peak  \\\n",
       "8  05/26/22  2022-04-26  2022-05-24           29  75229          832     0   \n",
       "\n",
       "   consumption_rate  peak_rate  fuel_rate  regulatory_rate  service_charge  \\\n",
       "8           0.07188        0.0    0.03062          0.01278             9.1   \n",
       "\n",
       "   consumption_charge  peak_charge  fuel_charge  regulatory_charge  \\\n",
       "8            59.80416          0.0     25.47584           10.63296   \n",
       "\n",
       "   total_bill  billing_per_day  consumption_per_day  \n",
       "8   105.01296         3.621137             2.062212  "
      ]
     },
     "execution_count": 110,
     "metadata": {},
     "output_type": "execute_result"
    }
   ],
   "source": [
    "df.sample()"
   ]
  },
  {
   "cell_type": "code",
   "execution_count": 111,
   "id": "6fef0b0b",
   "metadata": {},
   "outputs": [
    {
     "data": {
      "text/html": [
       "<div>\n",
       "<style scoped>\n",
       "    .dataframe tbody tr th:only-of-type {\n",
       "        vertical-align: middle;\n",
       "    }\n",
       "\n",
       "    .dataframe tbody tr th {\n",
       "        vertical-align: top;\n",
       "    }\n",
       "\n",
       "    .dataframe thead th {\n",
       "        text-align: right;\n",
       "    }\n",
       "</style>\n",
       "<table border=\"1\" class=\"dataframe\">\n",
       "  <thead>\n",
       "    <tr style=\"text-align: right;\">\n",
       "      <th></th>\n",
       "      <th>bill_date</th>\n",
       "      <th>bills_start</th>\n",
       "      <th>bills_end</th>\n",
       "      <th>bill_period</th>\n",
       "      <th>meter</th>\n",
       "      <th>consumption</th>\n",
       "      <th>peak</th>\n",
       "      <th>consumption_rate</th>\n",
       "      <th>peak_rate</th>\n",
       "      <th>fuel_rate</th>\n",
       "      <th>regulatory_rate</th>\n",
       "      <th>service_charge</th>\n",
       "      <th>consumption_charge</th>\n",
       "      <th>peak_charge</th>\n",
       "      <th>fuel_charge</th>\n",
       "      <th>regulatory_charge</th>\n",
       "      <th>total_bill</th>\n",
       "      <th>billing_per_day</th>\n",
       "      <th>consumption_per_day</th>\n",
       "    </tr>\n",
       "  </thead>\n",
       "  <tbody>\n",
       "    <tr>\n",
       "      <th>5</th>\n",
       "      <td>02/25/22</td>\n",
       "      <td>2022-01-27</td>\n",
       "      <td>2022-02-23</td>\n",
       "      <td>28</td>\n",
       "      <td>72565</td>\n",
       "      <td>1551</td>\n",
       "      <td>0</td>\n",
       "      <td>0.0691</td>\n",
       "      <td>0.0</td>\n",
       "      <td>0.02631</td>\n",
       "      <td>0.01278</td>\n",
       "      <td>8.75</td>\n",
       "      <td>107.1741</td>\n",
       "      <td>0.0</td>\n",
       "      <td>40.80681</td>\n",
       "      <td>19.82178</td>\n",
       "      <td>176.55269</td>\n",
       "      <td>6.305453</td>\n",
       "      <td>3.827646</td>\n",
       "    </tr>\n",
       "  </tbody>\n",
       "</table>\n",
       "</div>"
      ],
      "text/plain": [
       "  bill_date bills_start   bills_end  bill_period  meter  consumption  peak  \\\n",
       "5  02/25/22  2022-01-27  2022-02-23           28  72565         1551     0   \n",
       "\n",
       "   consumption_rate  peak_rate  fuel_rate  regulatory_rate  service_charge  \\\n",
       "5            0.0691        0.0    0.02631          0.01278            8.75   \n",
       "\n",
       "   consumption_charge  peak_charge  fuel_charge  regulatory_charge  \\\n",
       "5            107.1741          0.0     40.80681           19.82178   \n",
       "\n",
       "   total_bill  billing_per_day  consumption_per_day  \n",
       "5   176.55269         6.305453             3.827646  "
      ]
     },
     "execution_count": 111,
     "metadata": {},
     "output_type": "execute_result"
    }
   ],
   "source": [
    "df.query('billing_per_day == billing_per_day.max()')"
   ]
  },
  {
   "cell_type": "code",
   "execution_count": 112,
   "id": "23c033dc",
   "metadata": {},
   "outputs": [
    {
     "data": {
      "text/html": [
       "<div>\n",
       "<style scoped>\n",
       "    .dataframe tbody tr th:only-of-type {\n",
       "        vertical-align: middle;\n",
       "    }\n",
       "\n",
       "    .dataframe tbody tr th {\n",
       "        vertical-align: top;\n",
       "    }\n",
       "\n",
       "    .dataframe thead th {\n",
       "        text-align: right;\n",
       "    }\n",
       "</style>\n",
       "<table border=\"1\" class=\"dataframe\">\n",
       "  <thead>\n",
       "    <tr style=\"text-align: right;\">\n",
       "      <th></th>\n",
       "      <th>bill_date</th>\n",
       "      <th>bills_start</th>\n",
       "      <th>bills_end</th>\n",
       "      <th>bill_period</th>\n",
       "      <th>meter</th>\n",
       "      <th>consumption</th>\n",
       "      <th>peak</th>\n",
       "      <th>consumption_rate</th>\n",
       "      <th>peak_rate</th>\n",
       "      <th>fuel_rate</th>\n",
       "      <th>regulatory_rate</th>\n",
       "      <th>service_charge</th>\n",
       "      <th>consumption_charge</th>\n",
       "      <th>peak_charge</th>\n",
       "      <th>fuel_charge</th>\n",
       "      <th>regulatory_charge</th>\n",
       "      <th>total_bill</th>\n",
       "      <th>billing_per_day</th>\n",
       "      <th>consumption_per_day</th>\n",
       "    </tr>\n",
       "  </thead>\n",
       "  <tbody>\n",
       "    <tr>\n",
       "      <th>7</th>\n",
       "      <td>04/27/22</td>\n",
       "      <td>2022-03-24</td>\n",
       "      <td>2022-04-25</td>\n",
       "      <td>33</td>\n",
       "      <td>74397</td>\n",
       "      <td>694</td>\n",
       "      <td>0</td>\n",
       "      <td>0.07188</td>\n",
       "      <td>0.0</td>\n",
       "      <td>0.02745</td>\n",
       "      <td>0.01278</td>\n",
       "      <td>9.1</td>\n",
       "      <td>49.88472</td>\n",
       "      <td>0.0</td>\n",
       "      <td>19.0503</td>\n",
       "      <td>8.86932</td>\n",
       "      <td>86.90434</td>\n",
       "      <td>2.633465</td>\n",
       "      <td>1.511658</td>\n",
       "    </tr>\n",
       "  </tbody>\n",
       "</table>\n",
       "</div>"
      ],
      "text/plain": [
       "  bill_date bills_start   bills_end  bill_period  meter  consumption  peak  \\\n",
       "7  04/27/22  2022-03-24  2022-04-25           33  74397          694     0   \n",
       "\n",
       "   consumption_rate  peak_rate  fuel_rate  regulatory_rate  service_charge  \\\n",
       "7           0.07188        0.0    0.02745          0.01278             9.1   \n",
       "\n",
       "   consumption_charge  peak_charge  fuel_charge  regulatory_charge  \\\n",
       "7            49.88472          0.0      19.0503            8.86932   \n",
       "\n",
       "   total_bill  billing_per_day  consumption_per_day  \n",
       "7    86.90434         2.633465             1.511658  "
      ]
     },
     "execution_count": 112,
     "metadata": {},
     "output_type": "execute_result"
    }
   ],
   "source": [
    "df.query('billing_per_day == billing_per_day.min()')"
   ]
  },
  {
   "cell_type": "code",
   "execution_count": null,
   "id": "714db2ad",
   "metadata": {},
   "outputs": [],
   "source": []
  }
 ],
 "metadata": {
  "kernelspec": {
   "display_name": "Python 3",
   "language": "python",
   "name": "python3"
  },
  "language_info": {
   "codemirror_mode": {
    "name": "ipython",
    "version": 3
   },
   "file_extension": ".py",
   "mimetype": "text/x-python",
   "name": "python",
   "nbconvert_exporter": "python",
   "pygments_lexer": "ipython3",
   "version": "3.8.8"
  }
 },
 "nbformat": 4,
 "nbformat_minor": 5
}
